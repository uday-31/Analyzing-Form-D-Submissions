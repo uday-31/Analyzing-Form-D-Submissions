{
 "cells": [
  {
   "cell_type": "code",
   "execution_count": 40,
   "metadata": {},
   "outputs": [],
   "source": [
    "import pandas as pd\n",
    "import numpy as np\n",
    "import nltk\n",
    "from nltk.tokenize import sent_tokenize, word_tokenize\n",
    "from nltk.sentiment.util import mark_negation\n",
    "from nltk.stem import WordNetLemmatizer\n",
    "import re\n",
    "from nltk.corpus import stopwords\n",
    "import matplotlib.pyplot as plt\n",
    "import seaborn as sns\n",
    "import warnings; warnings.filterwarnings(\"ignore\")\n",
    "plt.style.use(\"seaborn\")"
   ]
  },
  {
   "cell_type": "code",
   "execution_count": 2,
   "metadata": {},
   "outputs": [],
   "source": [
    "df = pd.read_csv('OFFERING.tsv', sep='\\t')"
   ]
  },
  {
   "cell_type": "code",
   "execution_count": 3,
   "metadata": {},
   "outputs": [],
   "source": [
    "df.loc[df.HASNONACCREDITEDINVESTORS == False,'NUMBERNONACCREDITEDINVESTORS']\\\n",
    "     =df[df.HASNONACCREDITEDINVESTORS == False].\\\n",
    "        NUMBERNONACCREDITEDINVESTORS.fillna(0)\n",
    "\n",
    "df.loc[df.TOTALNUMBERALREADYINVESTED < df.NUMBERNONACCREDITEDINVESTORS,\\\n",
    "     'TOTALNUMBERALREADYINVESTED'] = \\\n",
    "     df.loc[df.TOTALNUMBERALREADYINVESTED < \\\n",
    "        df.NUMBERNONACCREDITEDINVESTORS, 'NUMBERNONACCREDITEDINVESTORS']\n",
    "\n",
    "df.IS40ACT = df.IS40ACT.fillna('Not Applicable')\n",
    "\n",
    "df.INVESTMENTFUNDTYPE = df.INVESTMENTFUNDTYPE.fillna(\"Not Applicable\")\n",
    "\n",
    "df.REVENUERANGE = df.REVENUERANGE.fillna(\"Not Applicable\")\n",
    "df.AGGREGATENETASSETVALUERANGE = df.AGGREGATENETASSETVALUERANGE.\\\n",
    "    fillna(\"Not Applicable\")\n",
    "\n",
    "df.PREVIOUSACCESSIONNUMBER = df.PREVIOUSACCESSIONNUMBER.\\\n",
    "    fillna(\"Not Applicable\")\n",
    "\n",
    "df.YETTOOCCUR = df.YETTOOCCUR.fillna(False)\n",
    "df.ISEQUITYTYPE = df.ISEQUITYTYPE.fillna(False)\n",
    "df.ISDEBTTYPE = df.ISDEBTTYPE.fillna(False)\n",
    "df.ISOPTIONTOACQUIRETYPE = df.ISOPTIONTOACQUIRETYPE.fillna(False)\n",
    "df.ISSECURITYTOBEACQUIREDTYPE = df.ISSECURITYTOBEACQUIREDTYPE.fillna(False)\n",
    "df.ISPOOLEDINVESTMENTFUNDTYPE = df.ISPOOLEDINVESTMENTFUNDTYPE.fillna(False)\n",
    "df.ISTENANTINCOMMONTYPE = df.ISTENANTINCOMMONTYPE.fillna(False)\n",
    "df.ISMINERALPROPERTYTYPE = df.ISMINERALPROPERTYTYPE.fillna(False)\n",
    "df.ISOTHERTYPE = df.ISOTHERTYPE.fillna(False)\n",
    "\n",
    "df.DESCRIPTIONOFOTHERTYPE = df.DESCRIPTIONOFOTHERTYPE.\\\n",
    "    fillna('Not Applicable')\n",
    "\n",
    "df.BUSCOMBCLARIFICATIONOFRESP = df.BUSCOMBCLARIFICATIONOFRESP.\\\n",
    "    fillna(\"Not Applicable\")\n",
    "df.SALESAMTCLARIFICATIONOFRESP = df.SALESAMTCLARIFICATIONOFRESP.\\\n",
    "    fillna(\"Not Applicable\")\n",
    "df.FINDERFEECLARIFICATIONOFRESP = df.FINDERFEECLARIFICATIONOFRESP.\\\n",
    "    fillna(\"Not Applicable\")\n",
    "df.GROSSPROCEEDSUSED_CLAROFRESP = df.GROSSPROCEEDSUSED_CLAROFRESP.\\\n",
    "    fillna(\"Not Applicable\")\n",
    "\n",
    "df = df.drop(columns=['OVER100RECIPIENTFLAG'])\n",
    "\n",
    "df.SALESCOMM_ISESTIMATE = df.SALESCOMM_ISESTIMATE.fillna(False)\n",
    "df.FINDERSFEE_ISESTIMATE = df.FINDERSFEE_ISESTIMATE.fillna(False)\n",
    "df.GROSSPROCEEDSUSED_ISESTIMATE = df.GROSSPROCEEDSUSED_ISESTIMATE.\\\n",
    "    fillna(False)"
   ]
  },
  {
   "cell_type": "code",
   "execution_count": 4,
   "metadata": {},
   "outputs": [],
   "source": [
    "df.MINIMUMINVESTMENTACCEPTED = df.MINIMUMINVESTMENTACCEPTED.\\\n",
    "    astype('float64')\n",
    "df.TOTALOFFERINGAMOUNT = df.TOTALOFFERINGAMOUNT.\\\n",
    "    replace('Indefinite',np.inf).astype('float64')\n",
    "df.TOTALAMOUNTSOLD = df.TOTALAMOUNTSOLD.astype('float64')\n",
    "df.TOTALREMAINING = df.TOTALREMAINING.replace('Indefinite',\\\n",
    "    np.inf).astype('float64')\n",
    "df.NUMBERNONACCREDITEDINVESTORS = \\\n",
    "    df.NUMBERNONACCREDITEDINVESTORS.astype('float64')\n",
    "df.TOTALNUMBERALREADYINVESTED = df.TOTALNUMBERALREADYINVESTED\\\n",
    "    .astype('int64')\n",
    "df.SALESCOMM_DOLLARAMOUNT = df.SALESCOMM_DOLLARAMOUNT\\\n",
    "    .astype('float64')\n",
    "df.FINDERSFEE_DOLLARAMOUNT = df.FINDERSFEE_DOLLARAMOUNT\\\n",
    "    .astype('float64')\n",
    "df.GROSSPROCEEDSUSED_DOLLARAMOUNT = \\\n",
    "    df.GROSSPROCEEDSUSED_DOLLARAMOUNT.astype('float64')\n",
    "\n",
    "df.ISAMENDMENT = df.ISAMENDMENT.astype(bool)\n",
    "df.YETTOOCCUR = df.YETTOOCCUR.astype(bool)\n",
    "df.MORETHANONEYEAR = df.MORETHANONEYEAR.astype(bool)\n",
    "df.ISEQUITYTYPE = df.ISEQUITYTYPE.astype(bool)\n",
    "df.ISDEBTTYPE = df.ISDEBTTYPE.astype(bool)\n",
    "df.ISOPTIONTOACQUIRETYPE = df.ISOPTIONTOACQUIRETYPE.astype(bool)\n",
    "df.ISSECURITYTOBEACQUIREDTYPE = df.ISSECURITYTOBEACQUIREDTYPE.astype(bool)\n",
    "df.ISPOOLEDINVESTMENTFUNDTYPE = df.ISPOOLEDINVESTMENTFUNDTYPE.astype(bool)\n",
    "df.ISTENANTINCOMMONTYPE = df.ISTENANTINCOMMONTYPE.astype(bool)\n",
    "df.ISMINERALPROPERTYTYPE = df.ISMINERALPROPERTYTYPE.astype(bool)\n",
    "df.ISOTHERTYPE = df.ISOTHERTYPE.astype(bool)\n",
    "df.ISBUSINESSCOMBINATIONTRANS = df.ISBUSINESSCOMBINATIONTRANS.astype(bool)\n",
    "df.HASNONACCREDITEDINVESTORS = df.HASNONACCREDITEDINVESTORS.astype(bool)\n",
    "df.SALESCOMM_ISESTIMATE = df.SALESCOMM_ISESTIMATE.astype(bool)\n",
    "df.FINDERSFEE_ISESTIMATE = df.FINDERSFEE_ISESTIMATE.astype(bool)\n",
    "df.GROSSPROCEEDSUSED_ISESTIMATE = df.GROSSPROCEEDSUSED_ISESTIMATE\\\n",
    "    .astype(bool)\n",
    "\n",
    "df.INDUSTRYGROUPTYPE = df.INDUSTRYGROUPTYPE.astype('category')\n",
    "df.INVESTMENTFUNDTYPE = df.INVESTMENTFUNDTYPE.astype('category')\n",
    "df.IS40ACT = df.IS40ACT.astype('category')\n",
    "df.REVENUERANGE = df.REVENUERANGE.astype('category')\n",
    "df.AGGREGATENETASSETVALUERANGE = df.AGGREGATENETASSETVALUERANGE\\\n",
    "    .astype('category')\n",
    "df.AUTHORIZEDREPRESENTATIVE = df.AUTHORIZEDREPRESENTATIVE.astype('category')\n",
    "\n",
    "df.SALE_DATE = df.SALE_DATE.astype('datetime64')"
   ]
  },
  {
   "cell_type": "markdown",
   "metadata": {},
   "source": [
    "Are there variables in the data set that could help predict the percentage of offering sold?"
   ]
  },
  {
   "cell_type": "code",
   "execution_count": 69,
   "metadata": {},
   "outputs": [],
   "source": [
    "idx = (df.TOTALOFFERINGAMOUNT!=np.inf)\n",
    "y = (df.TOTALAMOUNTSOLD[idx] / df.TOTALOFFERINGAMOUNT[idx])"
   ]
  },
  {
   "cell_type": "markdown",
   "metadata": {},
   "source": [
    "TODO: empty string\n",
    "\n",
    "TODO: drop empty rows (no value there) – can explore further\n",
    "\n",
    "TODO: acronym – keep ; series A\n",
    "\n",
    "many are none so merge \n"
   ]
  },
  {
   "cell_type": "code",
   "execution_count": 78,
   "metadata": {},
   "outputs": [],
   "source": [
    "text_cols = ['DESCRIPTIONOFOTHERTYPE','BUSCOMBCLARIFICATIONOFRESP','SALESAMTCLARIFICATIONOFRESP','FINDERFEECLARIFICATIONOFRESP','GROSSPROCEEDSUSED_CLAROFRESP']\n",
    "X_input = df[text_cols][idx].replace(\"Not Applicable\",'')\n",
    "\n",
    "lem = WordNetLemmatizer().lemmatize\n",
    "stop_words = set(stopwords.words('english'))\n",
    "\n",
    "print_bool = False\n",
    "print_idx = np.random.choice(list(range(len(X_input)*len(text_cols))),50)\n",
    "if not print_bool:\n",
    "    print_idx = []\n",
    "curr_idx = 0\n",
    "\n",
    "def tokenize(string):\n",
    "    global curr_idx\n",
    "    curr_idx+=1\n",
    "\n",
    "    if string=='':\n",
    "        return []\n",
    "    wt = word_tokenize(string)\n",
    "    #wt = [word.lower() for word in wt if (word.isalnum() or word in [''])]\n",
    "    wt = [word for word in wt if re.match(\"[a-zA-Z\\$0-9].*\",word) is not None]\n",
    "    wt = list(map(lambda x: x if x.isupper() else x.lower(),wt))\n",
    "    wt = [w for w in wt if not w in stop_words]\n",
    "    wt = nltk.pos_tag_sents([wt])[0]\n",
    "    holdsent = list(wt)\n",
    "    for i, wordtuple in enumerate(holdsent):\n",
    "        wordtmp = list(wordtuple)\n",
    "        if(wordtmp[1].startswith('N')):\n",
    "            wordtmp[1] = lem(wordtmp[0], 'n')\n",
    "        elif(wordtmp[1].startswith('V')):\n",
    "            wordtmp[1] = lem(wordtmp[0], 'v')\n",
    "        elif(wordtmp[1].startswith('J')):\n",
    "            wordtmp[1] = lem(wordtmp[0], 'a')\n",
    "        elif(wordtmp[1].startswith('R')):\n",
    "            wordtmp[1] = lem(wordtmp[0], 'r')\n",
    "        else:\n",
    "            wordtmp[1] = None\n",
    "        holdsent[i] = wordtmp\n",
    "    wt = list(map(lambda x: x[1] if x[1] is not None else x[0], holdsent))\n",
    "    wt = mark_negation(wt)\n",
    "    \n",
    "    if curr_idx in print_idx:\n",
    "    #if True:\n",
    "        print(string)\n",
    "        print(wt)\n",
    "        print()\n",
    "        \n",
    "    return wt\n",
    "\n",
    "for col in text_cols:\n",
    "    X_input[col] = X_input[col].apply(tokenize)\n",
    "\n",
    "X_input['combined_text'] = X_input.apply(lambda x: x[0]+x[1]+x[2]+x[3]+x[4],axis=1)\n",
    "X_input.combined_text = list(map(lambda x: x if x else np.nan, X_input.combined_text))"
   ]
  },
  {
   "cell_type": "code",
   "execution_count": 82,
   "metadata": {},
   "outputs": [],
   "source": [
    "idx_pick = X_input.combined_text.dropna().index\n",
    "X, y = X_input.combined_text[idx_pick], y[idx_pick]"
   ]
  },
  {
   "cell_type": "code",
   "execution_count": null,
   "metadata": {},
   "outputs": [],
   "source": []
  }
 ],
 "metadata": {
  "kernelspec": {
   "display_name": "Python 3.9.12 ('base')",
   "language": "python",
   "name": "python3"
  },
  "language_info": {
   "codemirror_mode": {
    "name": "ipython",
    "version": 3
   },
   "file_extension": ".py",
   "mimetype": "text/x-python",
   "name": "python",
   "nbconvert_exporter": "python",
   "pygments_lexer": "ipython3",
   "version": "3.9.12"
  },
  "orig_nbformat": 4,
  "vscode": {
   "interpreter": {
    "hash": "417f4c96b8a93166877ea833783777985ebd49905c42bc4a2c46f36438998e4c"
   }
  }
 },
 "nbformat": 4,
 "nbformat_minor": 2
}
