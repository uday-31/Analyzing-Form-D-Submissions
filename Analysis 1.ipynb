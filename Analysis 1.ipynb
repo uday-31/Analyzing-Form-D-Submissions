{
 "cells": [
  {
   "cell_type": "markdown",
   "metadata": {},
   "source": [
    "Group PGH013: Dhruv Baid, Guolun Li, Shangyu Li, Uday Sharma, Yi Xin Xiang"
   ]
  },
  {
   "cell_type": "code",
   "execution_count": 15,
   "metadata": {},
   "outputs": [],
   "source": [
    "import pandas as pd\n",
    "import numpy as np\n",
    "import nltk\n",
    "from nltk.tokenize import sent_tokenize, word_tokenize\n",
    "from nltk.sentiment.util import mark_negation\n",
    "from nltk.stem import WordNetLemmatizer\n",
    "from nltk.corpus import stopwords\n",
    "from sklearn.feature_extraction.text import TfidfVectorizer\n",
    "import re\n",
    "import matplotlib.pyplot as plt\n",
    "import seaborn as sns\n",
    "import warnings; warnings.filterwarnings(\"ignore\")\n",
    "plt.style.use(\"seaborn\")"
   ]
  },
  {
   "cell_type": "markdown",
   "metadata": {},
   "source": [
    "**Preprocessing – delete once merged**"
   ]
  },
  {
   "cell_type": "code",
   "execution_count": 54,
   "metadata": {},
   "outputs": [],
   "source": [
    "df = pd.read_csv('OFFERING.tsv', sep='\\t')"
   ]
  },
  {
   "cell_type": "code",
   "execution_count": 55,
   "metadata": {},
   "outputs": [],
   "source": [
    "df.loc[df.HASNONACCREDITEDINVESTORS == False,'NUMBERNONACCREDITEDINVESTORS']\\\n",
    "     =df[df.HASNONACCREDITEDINVESTORS == False].\\\n",
    "        NUMBERNONACCREDITEDINVESTORS.fillna(0)\n",
    "\n",
    "df.loc[df.TOTALNUMBERALREADYINVESTED < df.NUMBERNONACCREDITEDINVESTORS,\\\n",
    "     'TOTALNUMBERALREADYINVESTED'] = \\\n",
    "     df.loc[df.TOTALNUMBERALREADYINVESTED < \\\n",
    "        df.NUMBERNONACCREDITEDINVESTORS, 'NUMBERNONACCREDITEDINVESTORS']\n",
    "\n",
    "df.IS40ACT = df.IS40ACT.fillna('Not Applicable')\n",
    "\n",
    "df.INVESTMENTFUNDTYPE = df.INVESTMENTFUNDTYPE.fillna(\"Not Applicable\")\n",
    "\n",
    "df.REVENUERANGE = df.REVENUERANGE.fillna(\"Not Applicable\")\n",
    "df.AGGREGATENETASSETVALUERANGE = df.AGGREGATENETASSETVALUERANGE.\\\n",
    "    fillna(\"Not Applicable\")\n",
    "\n",
    "df.PREVIOUSACCESSIONNUMBER = df.PREVIOUSACCESSIONNUMBER.\\\n",
    "    fillna(\"Not Applicable\")\n",
    "\n",
    "df.YETTOOCCUR = df.YETTOOCCUR.fillna(False)\n",
    "df.ISEQUITYTYPE = df.ISEQUITYTYPE.fillna(False)\n",
    "df.ISDEBTTYPE = df.ISDEBTTYPE.fillna(False)\n",
    "df.ISOPTIONTOACQUIRETYPE = df.ISOPTIONTOACQUIRETYPE.fillna(False)\n",
    "df.ISSECURITYTOBEACQUIREDTYPE = df.ISSECURITYTOBEACQUIREDTYPE.fillna(False)\n",
    "df.ISPOOLEDINVESTMENTFUNDTYPE = df.ISPOOLEDINVESTMENTFUNDTYPE.fillna(False)\n",
    "df.ISTENANTINCOMMONTYPE = df.ISTENANTINCOMMONTYPE.fillna(False)\n",
    "df.ISMINERALPROPERTYTYPE = df.ISMINERALPROPERTYTYPE.fillna(False)\n",
    "df.ISOTHERTYPE = df.ISOTHERTYPE.fillna(False)\n",
    "\n",
    "df.DESCRIPTIONOFOTHERTYPE = df.DESCRIPTIONOFOTHERTYPE.\\\n",
    "    fillna('Not Applicable')\n",
    "\n",
    "df.BUSCOMBCLARIFICATIONOFRESP = df.BUSCOMBCLARIFICATIONOFRESP.\\\n",
    "    fillna(\"Not Applicable\")\n",
    "df.SALESAMTCLARIFICATIONOFRESP = df.SALESAMTCLARIFICATIONOFRESP.\\\n",
    "    fillna(\"Not Applicable\")\n",
    "df.FINDERFEECLARIFICATIONOFRESP = df.FINDERFEECLARIFICATIONOFRESP.\\\n",
    "    fillna(\"Not Applicable\")\n",
    "df.GROSSPROCEEDSUSED_CLAROFRESP = df.GROSSPROCEEDSUSED_CLAROFRESP.\\\n",
    "    fillna(\"Not Applicable\")\n",
    "\n",
    "df = df.drop(columns=['OVER100RECIPIENTFLAG'])\n",
    "\n",
    "df.SALESCOMM_ISESTIMATE = df.SALESCOMM_ISESTIMATE.fillna(False)\n",
    "df.FINDERSFEE_ISESTIMATE = df.FINDERSFEE_ISESTIMATE.fillna(False)\n",
    "df.GROSSPROCEEDSUSED_ISESTIMATE = df.GROSSPROCEEDSUSED_ISESTIMATE.\\\n",
    "    fillna(False)"
   ]
  },
  {
   "cell_type": "code",
   "execution_count": 56,
   "metadata": {},
   "outputs": [],
   "source": [
    "df.MINIMUMINVESTMENTACCEPTED = df.MINIMUMINVESTMENTACCEPTED.\\\n",
    "    astype('float64')\n",
    "df.TOTALOFFERINGAMOUNT = df.TOTALOFFERINGAMOUNT.\\\n",
    "    replace('Indefinite',np.inf).astype('float64')\n",
    "df.TOTALAMOUNTSOLD = df.TOTALAMOUNTSOLD.astype('float64')\n",
    "df.TOTALREMAINING = df.TOTALREMAINING.replace('Indefinite',\\\n",
    "    np.inf).astype('float64')\n",
    "df.NUMBERNONACCREDITEDINVESTORS = \\\n",
    "    df.NUMBERNONACCREDITEDINVESTORS.astype('float64')\n",
    "df.TOTALNUMBERALREADYINVESTED = df.TOTALNUMBERALREADYINVESTED\\\n",
    "    .astype('int64')\n",
    "df.SALESCOMM_DOLLARAMOUNT = df.SALESCOMM_DOLLARAMOUNT\\\n",
    "    .astype('float64')\n",
    "df.FINDERSFEE_DOLLARAMOUNT = df.FINDERSFEE_DOLLARAMOUNT\\\n",
    "    .astype('float64')\n",
    "df.GROSSPROCEEDSUSED_DOLLARAMOUNT = \\\n",
    "    df.GROSSPROCEEDSUSED_DOLLARAMOUNT.astype('float64')\n",
    "\n",
    "df.ISAMENDMENT = df.ISAMENDMENT.astype(bool)\n",
    "df.YETTOOCCUR = df.YETTOOCCUR.astype(bool)\n",
    "df.MORETHANONEYEAR = df.MORETHANONEYEAR.astype(bool)\n",
    "df.ISEQUITYTYPE = df.ISEQUITYTYPE.astype(bool)\n",
    "df.ISDEBTTYPE = df.ISDEBTTYPE.astype(bool)\n",
    "df.ISOPTIONTOACQUIRETYPE = df.ISOPTIONTOACQUIRETYPE.astype(bool)\n",
    "df.ISSECURITYTOBEACQUIREDTYPE = df.ISSECURITYTOBEACQUIREDTYPE.astype(bool)\n",
    "df.ISPOOLEDINVESTMENTFUNDTYPE = df.ISPOOLEDINVESTMENTFUNDTYPE.astype(bool)\n",
    "df.ISTENANTINCOMMONTYPE = df.ISTENANTINCOMMONTYPE.astype(bool)\n",
    "df.ISMINERALPROPERTYTYPE = df.ISMINERALPROPERTYTYPE.astype(bool)\n",
    "df.ISOTHERTYPE = df.ISOTHERTYPE.astype(bool)\n",
    "df.ISBUSINESSCOMBINATIONTRANS = df.ISBUSINESSCOMBINATIONTRANS.astype(bool)\n",
    "df.HASNONACCREDITEDINVESTORS = df.HASNONACCREDITEDINVESTORS.astype(bool)\n",
    "df.SALESCOMM_ISESTIMATE = df.SALESCOMM_ISESTIMATE.astype(bool)\n",
    "df.FINDERSFEE_ISESTIMATE = df.FINDERSFEE_ISESTIMATE.astype(bool)\n",
    "df.GROSSPROCEEDSUSED_ISESTIMATE = df.GROSSPROCEEDSUSED_ISESTIMATE\\\n",
    "    .astype(bool)\n",
    "\n",
    "df.INDUSTRYGROUPTYPE = df.INDUSTRYGROUPTYPE.astype('category')\n",
    "df.INVESTMENTFUNDTYPE = df.INVESTMENTFUNDTYPE.astype('category')\n",
    "df.IS40ACT = df.IS40ACT.astype('category')\n",
    "df.REVENUERANGE = df.REVENUERANGE.astype('category')\n",
    "df.AGGREGATENETASSETVALUERANGE = df.AGGREGATENETASSETVALUERANGE\\\n",
    "    .astype('category')\n",
    "df.AUTHORIZEDREPRESENTATIVE = df.AUTHORIZEDREPRESENTATIVE.astype('category')\n",
    "\n",
    "df.SALE_DATE = df.SALE_DATE.astype('datetime64')"
   ]
  },
  {
   "cell_type": "markdown",
   "metadata": {},
   "source": [
    "**end delete**"
   ]
  },
  {
   "cell_type": "markdown",
   "metadata": {},
   "source": [
    "# Analysis 1"
   ]
  },
  {
   "cell_type": "markdown",
   "metadata": {},
   "source": [
    "**Question**: Are there variables in the data set that could help predict the percentage of offering sold?\n",
    "\n",
    "**Methods Used**: Natural Language Processing, K-Means Clustering"
   ]
  },
  {
   "cell_type": "markdown",
   "metadata": {},
   "source": [
    "## Methodology"
   ]
  },
  {
   "cell_type": "markdown",
   "metadata": {},
   "source": [
    "First, we set up the response variable **y**, equal to the percentage of offering sold.\n",
    "\n",
    "$$y = \\frac{\\mathrm{TOTALAMOUNTSOLD}}{\\mathrm{TOTALOFFERINGAMOUNT}}$$"
   ]
  },
  {
   "cell_type": "code",
   "execution_count": 57,
   "metadata": {},
   "outputs": [],
   "source": [
    "idx = (df.TOTALOFFERINGAMOUNT!=np.inf)\n",
    "y = (df.TOTALAMOUNTSOLD[idx] / df.TOTALOFFERINGAMOUNT[idx])"
   ]
  },
  {
   "cell_type": "markdown",
   "metadata": {},
   "source": [
    "Note that we discard the rows where the total offering amount is undetermined. We are left with 8,541 rows from the original 14,187."
   ]
  },
  {
   "cell_type": "code",
   "execution_count": 58,
   "metadata": {},
   "outputs": [
    {
     "data": {
      "text/plain": [
       "8541"
      ]
     },
     "execution_count": 58,
     "metadata": {},
     "output_type": "execute_result"
    }
   ],
   "source": [
    "len(y)"
   ]
  },
  {
   "cell_type": "markdown",
   "metadata": {},
   "source": [
    "For performing Natural Language Processing, we look at the following columns with text data:\n",
    "- DESCRIPTIONOFOTHERTYPE\n",
    "- BUSCOMBCLARIFICATIONOFRESP\n",
    "- SALESAMTCLARIFICATIONOFRESP\n",
    "- FINDERFEECLARIFICATIONOFRESP\n",
    "- GROSSPROCEEDSUSED_CLAROFRESP\n",
    "\n",
    "For the purposes of this analysis, the text \"Not Applicable\" is replaced with an empty string."
   ]
  },
  {
   "cell_type": "markdown",
   "metadata": {},
   "source": [
    "First, we tokenize each column using the following methodology:\n",
    "\n",
    "1. Tokenize each cell by words, i.e., break it into a sequence of words.\n",
    "\n",
    "2. Using regular expression, only keep words with alphanumeric characters or the \"\\$\" sign. This will allow us to keep dollar amounts that are included in some of the descriptions, while removing punctuations.\n",
    "\n",
    "3. Convert each word to lowercase *only if* it is not an acronym, defined here as a word that is completely uppercase. This allows us to treat acronyms like \"SAFE\" separately from the noun \"safe\". This will allow us to keep things like the \"A\" in \"Series A\", as it would otherwise get converted to \"a\" which is a stop word.\n",
    "\n",
    "4. Remove English stop words using the built-in dictionary in *nltk*.\n",
    "\n",
    "5. Parse each word and tag it with the appropriate part of speech using the standard Penn Treebank tagset.\n",
    "\n",
    "6. Using these tags, lemmatize each word using *nltk*'s implementation of WordNet. For words without any tag, e.g. the dollar sign \\$, we keep the word as-is.\n",
    "\n",
    "7. Finally, perform negation handling by marking each word following a negation word with the \"_NEG\" tag."
   ]
  },
  {
   "cell_type": "code",
   "execution_count": 59,
   "metadata": {},
   "outputs": [],
   "source": [
    "text_cols = ['DESCRIPTIONOFOTHERTYPE','BUSCOMBCLARIFICATIONOFRESP','SALESAMTCLARIFICATIONOFRESP','FINDERFEECLARIFICATIONOFRESP','GROSSPROCEEDSUSED_CLAROFRESP']\n",
    "\n",
    "# replace \"Not Applicable\" with an empty string\n",
    "# extract the text cols for rows for which offering amount is not indefinite\n",
    "X_input = df[text_cols][idx].replace(\"Not Applicable\",'')\n",
    "\n",
    "# initialize lemmatizer and stop words\n",
    "lem = WordNetLemmatizer().lemmatize\n",
    "stop_words = set(stopwords.words('english'))\n",
    "\n",
    "# to print random values for demonstration purposes\n",
    "print_bool = True\n",
    "print_idx = np.random.choice(list(range(len(X_input)*len(text_cols))),50)\n",
    "if not print_bool:\n",
    "    print_idx = []\n",
    "curr_idx = 0\n",
    "\n",
    "# function to tokenize each cell\n",
    "def tokenize(string):\n",
    "\n",
    "    # for printing examples\n",
    "    global curr_idx\n",
    "    curr_idx+=1\n",
    "\n",
    "    # for an empty string, just return an empty list\n",
    "    if string=='':\n",
    "        return []\n",
    "\n",
    "    # step 1: tokenize by words\n",
    "    wt = word_tokenize(string)\n",
    "    \n",
    "    # step 2: keep words with alphanumeric characters or $\n",
    "    wt = [word for word in wt if re.match(\"[a-zA-Z\\$0-9].*\",word) is not None]\n",
    "\n",
    "    # step 3: convert to lowercase only if not an acronym\n",
    "    wt = list(map(lambda x: x if x.isupper() else x.lower(),wt))\n",
    "    \n",
    "    # step 4: remove stop words\n",
    "    wt = [w for w in wt if not w in stop_words]\n",
    "\n",
    "    # step 5: tag with the appropriate part of speech\n",
    "    wt = nltk.pos_tag_sents([wt])[0]\n",
    "\n",
    "    # step 6: lemmatize each word\n",
    "    holdsent = list(wt)\n",
    "    for i, wordtuple in enumerate(holdsent):\n",
    "        wordtmp = list(wordtuple)\n",
    "        if(wordtmp[1].startswith('N')):\n",
    "            wordtmp[1] = lem(wordtmp[0], 'n')\n",
    "        elif(wordtmp[1].startswith('V')):\n",
    "            wordtmp[1] = lem(wordtmp[0], 'v')\n",
    "        elif(wordtmp[1].startswith('J')):\n",
    "            wordtmp[1] = lem(wordtmp[0], 'a')\n",
    "        elif(wordtmp[1].startswith('R')):\n",
    "            wordtmp[1] = lem(wordtmp[0], 'r')\n",
    "        else:\n",
    "            wordtmp[1] = None\n",
    "        holdsent[i] = wordtmp\n",
    "    wt = list(map(lambda x: x[1] if x[1] is not None else x[0], holdsent))\n",
    "\n",
    "    # step 7: negation handling\n",
    "    wt = mark_negation(wt)\n",
    "    \n",
    "    # for printing examples\n",
    "    if curr_idx in print_idx:\n",
    "        print(\"Original:\",string)\n",
    "        print(\"After tokenization:\",wt)\n",
    "        print()\n",
    "        \n",
    "    return wt"
   ]
  },
  {
   "cell_type": "markdown",
   "metadata": {},
   "source": [
    "Now, we apply the tokenize function to each column.\n",
    "\n",
    "To illustrate the tokenization process, we randomly sample a few examples and print the original string, as well as the tokenized version."
   ]
  },
  {
   "cell_type": "code",
   "execution_count": 60,
   "metadata": {},
   "outputs": [
    {
     "name": "stdout",
     "output_type": "stream",
     "text": [
      "Original: Convertible debentures and Common Stock issuable upon conversion\n",
      "After tokenization: ['convertible', 'debenture', 'common', 'stock', 'issuable', 'upon', 'conversion']\n",
      "\n",
      "Original: 6% Convertible Note  convertible into shares of common stock upon close of IPO\n",
      "After tokenization: ['6', 'convertible', 'note', 'convertible', 'share', 'common', 'stock', 'upon', 'close', 'IPO']\n",
      "\n",
      "Original: The Total Offering Amount and Total Remaining to be Sold include amounts being offered by Columbia Capital Opportunities Fund I-A, L.P., a \"parallel fund\" of the Issuer.\n",
      "After tokenization: ['total', 'offering', 'amount', 'total', 'remain', 'sell', 'include', 'amount', 'offer', 'columbia', 'capital', 'opportunity', 'fund', 'I-A', 'L.P.', 'parallel', 'fund', 'issuer']\n",
      "\n",
      "Original: Loan origination fee\n",
      "After tokenization: ['loan', 'origination', 'fee']\n",
      "\n",
      "Original: Sales Commissions include estimates of the maximum amount of Selling Commissions and Dealer Fees that may be paid.\n",
      "After tokenization: ['sale', 'commission', 'include', 'estimate', 'maximum', 'amount', 'sell', 'commission', 'dealer', 'fee', 'may', 'pay']\n",
      "\n",
      "Original: This amount represents a one-time fixed cost to cover fund organizational and operating expenses, including all regulatory filing fees, for the life of the fund.\n",
      "After tokenization: ['amount', 'represent', 'one-time', 'fixed', 'cost', 'cover', 'fund', 'organizational', 'operating', 'expense', 'include', 'regulatory', 'filing', 'fee', 'life', 'fund']\n",
      "\n",
      "Original: The Issuer's Manager, or an affiliate of the Issuer's Manager, may be entitled to receive a management fee in accordance with the Issuer's governing documentation, as amended from time to time.\n",
      "After tokenization: ['issuer', 'manager', 'affiliate', 'issuer', 'manager', 'may', 'entitle', 'receive', 'management', 'fee', 'accordance', 'issuer', 'govern', 'documentation', 'amend', 'time', 'time']\n",
      "\n"
     ]
    }
   ],
   "source": [
    "for col in text_cols:\n",
    "    X_input[col] = X_input[col].apply(tokenize)"
   ]
  },
  {
   "cell_type": "markdown",
   "metadata": {},
   "source": [
    "We note that the resulting matrix is quite sparse – the empty list seems to be a big proportion of all five columns. To tackle this, we concatenate the columns into a single column called \"*combined_text*\", with the following justifications:\n",
    "- Upon observing the data on Excel, we find that for a majority of the cases, there is not much of an overlap between columns being non-empty, i.e., there are very few rows where we have two or more columns being non-empty.\n",
    "- Also, our analysis afterwards consists of a \"bag-of-words\" model for the text. With that in mind, simply concatenating the columns together doesn't adversely affect the analysis as we will still be evaluating how \"similar\" two rows are based on the words that show up in the different descriptions provided."
   ]
  },
  {
   "cell_type": "code",
   "execution_count": 61,
   "metadata": {},
   "outputs": [
    {
     "data": {
      "text/html": [
       "<div>\n",
       "<style scoped>\n",
       "    .dataframe tbody tr th:only-of-type {\n",
       "        vertical-align: middle;\n",
       "    }\n",
       "\n",
       "    .dataframe tbody tr th {\n",
       "        vertical-align: top;\n",
       "    }\n",
       "\n",
       "    .dataframe thead th {\n",
       "        text-align: right;\n",
       "    }\n",
       "</style>\n",
       "<table border=\"1\" class=\"dataframe\">\n",
       "  <thead>\n",
       "    <tr style=\"text-align: right;\">\n",
       "      <th></th>\n",
       "      <th>DESCRIPTIONOFOTHERTYPE</th>\n",
       "      <th>BUSCOMBCLARIFICATIONOFRESP</th>\n",
       "      <th>SALESAMTCLARIFICATIONOFRESP</th>\n",
       "      <th>FINDERFEECLARIFICATIONOFRESP</th>\n",
       "      <th>GROSSPROCEEDSUSED_CLAROFRESP</th>\n",
       "    </tr>\n",
       "  </thead>\n",
       "  <tbody>\n",
       "    <tr>\n",
       "      <th>count</th>\n",
       "      <td>8541</td>\n",
       "      <td>8541</td>\n",
       "      <td>8541</td>\n",
       "      <td>8541</td>\n",
       "      <td>8541</td>\n",
       "    </tr>\n",
       "    <tr>\n",
       "      <th>unique</th>\n",
       "      <td>358</td>\n",
       "      <td>76</td>\n",
       "      <td>645</td>\n",
       "      <td>286</td>\n",
       "      <td>843</td>\n",
       "    </tr>\n",
       "    <tr>\n",
       "      <th>top</th>\n",
       "      <td>[]</td>\n",
       "      <td>[]</td>\n",
       "      <td>[]</td>\n",
       "      <td>[]</td>\n",
       "      <td>[]</td>\n",
       "    </tr>\n",
       "    <tr>\n",
       "      <th>freq</th>\n",
       "      <td>7839</td>\n",
       "      <td>8456</td>\n",
       "      <td>7695</td>\n",
       "      <td>8047</td>\n",
       "      <td>5677</td>\n",
       "    </tr>\n",
       "  </tbody>\n",
       "</table>\n",
       "</div>"
      ],
      "text/plain": [
       "       DESCRIPTIONOFOTHERTYPE BUSCOMBCLARIFICATIONOFRESP  \\\n",
       "count                    8541                       8541   \n",
       "unique                    358                         76   \n",
       "top                        []                         []   \n",
       "freq                     7839                       8456   \n",
       "\n",
       "       SALESAMTCLARIFICATIONOFRESP FINDERFEECLARIFICATIONOFRESP  \\\n",
       "count                         8541                         8541   \n",
       "unique                         645                          286   \n",
       "top                             []                           []   \n",
       "freq                          7695                         8047   \n",
       "\n",
       "       GROSSPROCEEDSUSED_CLAROFRESP  \n",
       "count                          8541  \n",
       "unique                          843  \n",
       "top                              []  \n",
       "freq                           5677  "
      ]
     },
     "execution_count": 61,
     "metadata": {},
     "output_type": "execute_result"
    }
   ],
   "source": [
    "#X_input.to_excel(\"test.xlsx\")\n",
    "X_input.describe()"
   ]
  },
  {
   "cell_type": "code",
   "execution_count": 62,
   "metadata": {},
   "outputs": [],
   "source": [
    "X_input['combined_text'] = X_input.apply(lambda x: x[0]+x[1]+x[2]+x[3]+x[4],axis=1)\n",
    "X_input.combined_text = list(map(lambda x: x if x else np.nan, X_input.combined_text))"
   ]
  },
  {
   "cell_type": "markdown",
   "metadata": {},
   "source": [
    "After combining the data, we drop the rows that have an empty list. We are left with 3938 rows, which is still a good enough amount of data for further analysis."
   ]
  },
  {
   "cell_type": "code",
   "execution_count": 65,
   "metadata": {},
   "outputs": [],
   "source": [
    "idx_pick = X_input.combined_text.dropna().index\n",
    "X, y = X_input.combined_text[idx_pick], y[idx_pick]"
   ]
  },
  {
   "cell_type": "code",
   "execution_count": 66,
   "metadata": {},
   "outputs": [
    {
     "data": {
      "text/plain": [
       "3938"
      ]
     },
     "execution_count": 66,
     "metadata": {},
     "output_type": "execute_result"
    }
   ],
   "source": [
    "len(X)"
   ]
  },
  {
   "cell_type": "markdown",
   "metadata": {},
   "source": [
    "Next, we want to make use of the tokenized data to get insights about our original data. To do so, we use the term frequency-inverse document frequecy (TF-IDF) metric, which creates a matrix of \"adjusted\" counts, where the number of rows is equal to 3938 (as found above), and the number of columns is equal to the number of unique terms across the documents.\n",
    "\n",
    "Here, the adjustment to the counts is done to account for the term's frequency across the documents.\n",
    "\n",
    "A note on implementation: as the *TfidfVectorizer* function automatically performs preprocessing and tokenizing, we pass a \"dummy\" preprocessor and tokenizer each as we have already done both the procedures in the previous steps.\n",
    "\n",
    "Also, we set the ngram_range to (1,1). The justification for this is that since we're looking at financial data, it is unlikely that looking at a longer combination of words will give any more information than looking at a single word. For example, the words \"common\" and \"stock\" are usually used together. It is very unlikely that, for example, the word \"common\" is used in a different context – and that we get more value by looking at \"common stock\" as a unit."
   ]
  },
  {
   "cell_type": "code",
   "execution_count": 67,
   "metadata": {},
   "outputs": [],
   "source": [
    "def dummy_tokenizer(sent):\n",
    "    return sent\n",
    "\n",
    "def dummy_preprocessor(sent):\n",
    "    return sent\n",
    "\n",
    "vectorizer = TfidfVectorizer(tokenizer = dummy_tokenizer, preprocessor=dummy_preprocessor,ngram_range=(1,1))\n",
    "vect_fit = vectorizer.fit_transform(list(X))"
   ]
  },
  {
   "cell_type": "markdown",
   "metadata": {},
   "source": [
    "Before further analysis, we first divide the response, the percentage of offering sold, into bins. Looking at the histogram:"
   ]
  },
  {
   "cell_type": "code",
   "execution_count": 74,
   "metadata": {},
   "outputs": [
    {
     "data": {
      "image/png": "[encoded data removed]",
      "text/plain": [
       "<Figure size 576x396 with 1 Axes>"
      ]
     },
     "metadata": {},
     "output_type": "display_data"
    }
   ],
   "source": [
    "y.plot.hist(bins=10)\n",
    "plt.xlabel(\"percentage of offering sold\")\n",
    "plt.show()"
   ]
  },
  {
   "cell_type": "markdown",
   "metadata": {},
   "source": [
    "Based on this, we make 5 bins for the following range of values:\n",
    "1. [0, 0.2]\n",
    "2. (0.2, 0.4]\n",
    "3. (0.4, 0.6]\n",
    "4. (0.6, 0.8]\n",
    "5. (0.8, 1]"
   ]
  },
  {
   "cell_type": "code",
   "execution_count": 81,
   "metadata": {},
   "outputs": [],
   "source": [
    "def bin_proportion(val, num_bins = 5):\n",
    "    size = 1/num_bins\n",
    "    i = size\n",
    "    while val >= i:\n",
    "        i += size\n",
    "    return int(i//size)\n",
    "        \n",
    "y_binned = y.apply(bin_proportion)"
   ]
  },
  {
   "cell_type": "markdown",
   "metadata": {},
   "source": [
    "Now, the final step of the analysis is to use K-means clustering to group the data into different clusters using the TF-IDF matrix. \n",
    "\n",
    "We use K-means clustering as the \"inertia\", a function of the squared euclidean norm, is a fairly good measure of similarity between different rows in the matrix since all the data are at the same scale. Hence, it would be valid to treat the distances between different columns the same way.\n",
    "\n",
    "We set the number of clusters to 8, a number slightly higher than 5, as we want to be able to \"sieve out\" the different bins for y into different clusters. In other words, we want to try to get clusters (constructed for the TF-IDF matrix) where a majority of the members belong to a single binned value of y. This is ideal as we already know that the cluster contains members which are similar in terms of the text the features contain, so we can then try to find common characteristics between the members of that cluster. This will allow us to identify certain texts which can help predict the percentage of offering that ends up getting sold."
   ]
  },
  {
   "cell_type": "code",
   "execution_count": 86,
   "metadata": {},
   "outputs": [],
   "source": [
    "from sklearn.cluster import KMeans\n",
    "kminit = KMeans(n_clusters=8, n_init=100)\n",
    "kmout = kminit.fit(vect_fit.todense())"
   ]
  },
  {
   "cell_type": "code",
   "execution_count": 87,
   "metadata": {},
   "outputs": [
    {
     "data": {
      "image/png": "[encoded data removed]",
      "text/plain": [
       "<Figure size 576x396 with 1 Axes>"
      ]
     },
     "metadata": {},
     "output_type": "display_data"
    }
   ],
   "source": [
    "plot_df = pd.DataFrame(df.ACCESSIONNUMBER[X.index])\n",
    "plot_df['kmclust'] = kmout.labels_ + 1\n",
    "plot_df['kmclust'] = plot_df['kmclust'].astype('category').cat.as_unordered()\n",
    "plot_df['actual_bin'] = y_binned.copy()\n",
    "\n",
    "plot_df = plot_df.groupby(['kmclust','actual_bin'])['ACCESSIONNUMBER'].count().unstack('actual_bin').fillna(0)\n",
    "plot_df.plot(kind='bar', stacked=True,legend=False)\n",
    "plt.xlabel(\"Cluster\")\n",
    "plt.ylabel(\"Count\")\n",
    "plt.legend(title=\"Bin\", bbox_to_anchor=(1.0, 1.0))\n",
    "plt.show()"
   ]
  },
  {
   "cell_type": "markdown",
   "metadata": {},
   "source": [
    "## Analysis and Results"
   ]
  },
  {
   "cell_type": "markdown",
   "metadata": {},
   "source": [
    "### Clusters 2 and 6: high percentage of offerings sold"
   ]
  },
  {
   "cell_type": "markdown",
   "metadata": {},
   "source": [
    "First, we note that clusters 2 and 6 have a majority of its members belonging to bin 5, i.e., have a percentage of offering sold between 0.8 to 1. We look at the text features of this data on Excel. \n",
    "\n",
    "To visualize and understand the data better, we first visually inspect the features for the cluster, and then print the unique values from the important column(s)."
   ]
  },
  {
   "cell_type": "markdown",
   "metadata": {},
   "source": [
    "Cluster 2:"
   ]
  },
  {
   "cell_type": "code",
   "execution_count": 118,
   "metadata": {},
   "outputs": [
    {
     "data": {
      "text/html": [
       "<div>\n",
       "<style scoped>\n",
       "    .dataframe tbody tr th:only-of-type {\n",
       "        vertical-align: middle;\n",
       "    }\n",
       "\n",
       "    .dataframe tbody tr th {\n",
       "        vertical-align: top;\n",
       "    }\n",
       "\n",
       "    .dataframe thead th {\n",
       "        text-align: right;\n",
       "    }\n",
       "</style>\n",
       "<table border=\"1\" class=\"dataframe\">\n",
       "  <thead>\n",
       "    <tr style=\"text-align: right;\">\n",
       "      <th></th>\n",
       "      <th>DESCRIPTIONOFOTHERTYPE</th>\n",
       "      <th>BUSCOMBCLARIFICATIONOFRESP</th>\n",
       "      <th>SALESAMTCLARIFICATIONOFRESP</th>\n",
       "      <th>FINDERFEECLARIFICATIONOFRESP</th>\n",
       "      <th>GROSSPROCEEDSUSED_CLAROFRESP</th>\n",
       "      <th>TOTALOFFERINGAMOUNT</th>\n",
       "      <th>TOTALAMOUNTSOLD</th>\n",
       "    </tr>\n",
       "  </thead>\n",
       "  <tbody>\n",
       "    <tr>\n",
       "      <th>2</th>\n",
       "      <td>Not Applicable</td>\n",
       "      <td>Not Applicable</td>\n",
       "      <td>Not Applicable</td>\n",
       "      <td>Not Applicable</td>\n",
       "      <td>This amount represents a one-time fixed cost t...</td>\n",
       "      <td>213278.0</td>\n",
       "      <td>213278.0</td>\n",
       "    </tr>\n",
       "    <tr>\n",
       "      <th>12</th>\n",
       "      <td>Not Applicable</td>\n",
       "      <td>Not Applicable</td>\n",
       "      <td>Not Applicable</td>\n",
       "      <td>Not Applicable</td>\n",
       "      <td>This amount represents a one-time fixed cost t...</td>\n",
       "      <td>145628.0</td>\n",
       "      <td>145628.0</td>\n",
       "    </tr>\n",
       "    <tr>\n",
       "      <th>25</th>\n",
       "      <td>Not Applicable</td>\n",
       "      <td>Not Applicable</td>\n",
       "      <td>Not Applicable</td>\n",
       "      <td>Not Applicable</td>\n",
       "      <td>This amount represents a one-time fixed cost t...</td>\n",
       "      <td>550000.0</td>\n",
       "      <td>550000.0</td>\n",
       "    </tr>\n",
       "    <tr>\n",
       "      <th>58</th>\n",
       "      <td>Not Applicable</td>\n",
       "      <td>Not Applicable</td>\n",
       "      <td>Not Applicable</td>\n",
       "      <td>Not Applicable</td>\n",
       "      <td>This amount represents a one-time fixed cost t...</td>\n",
       "      <td>164500.0</td>\n",
       "      <td>164500.0</td>\n",
       "    </tr>\n",
       "    <tr>\n",
       "      <th>62</th>\n",
       "      <td>Not Applicable</td>\n",
       "      <td>Not Applicable</td>\n",
       "      <td>Not Applicable</td>\n",
       "      <td>Not Applicable</td>\n",
       "      <td>This amount represents a one-time fixed cost t...</td>\n",
       "      <td>86493.0</td>\n",
       "      <td>86493.0</td>\n",
       "    </tr>\n",
       "  </tbody>\n",
       "</table>\n",
       "</div>"
      ],
      "text/plain": [
       "   DESCRIPTIONOFOTHERTYPE BUSCOMBCLARIFICATIONOFRESP  \\\n",
       "2          Not Applicable             Not Applicable   \n",
       "12         Not Applicable             Not Applicable   \n",
       "25         Not Applicable             Not Applicable   \n",
       "58         Not Applicable             Not Applicable   \n",
       "62         Not Applicable             Not Applicable   \n",
       "\n",
       "   SALESAMTCLARIFICATIONOFRESP FINDERFEECLARIFICATIONOFRESP  \\\n",
       "2               Not Applicable               Not Applicable   \n",
       "12              Not Applicable               Not Applicable   \n",
       "25              Not Applicable               Not Applicable   \n",
       "58              Not Applicable               Not Applicable   \n",
       "62              Not Applicable               Not Applicable   \n",
       "\n",
       "                         GROSSPROCEEDSUSED_CLAROFRESP  TOTALOFFERINGAMOUNT  \\\n",
       "2   This amount represents a one-time fixed cost t...             213278.0   \n",
       "12  This amount represents a one-time fixed cost t...             145628.0   \n",
       "25  This amount represents a one-time fixed cost t...             550000.0   \n",
       "58  This amount represents a one-time fixed cost t...             164500.0   \n",
       "62  This amount represents a one-time fixed cost t...              86493.0   \n",
       "\n",
       "    TOTALAMOUNTSOLD  \n",
       "2          213278.0  \n",
       "12         145628.0  \n",
       "25         550000.0  \n",
       "58         164500.0  \n",
       "62          86493.0  "
      ]
     },
     "execution_count": 118,
     "metadata": {},
     "output_type": "execute_result"
    }
   ],
   "source": [
    "idx = y_binned[kmout.labels_ == 1].index\n",
    "#df[text_cols+['TOTALOFFERINGAMOUNT','TOTALAMOUNTSOLD']].iloc[idx].to_excel('test.xlsx')\n",
    "df[text_cols+['TOTALOFFERINGAMOUNT','TOTALAMOUNTSOLD']].iloc[idx].head(5)"
   ]
  },
  {
   "cell_type": "code",
   "execution_count": 122,
   "metadata": {},
   "outputs": [
    {
     "name": "stdout",
     "output_type": "stream",
     "text": [
      "GROSSPROCEEDSUSED_CLAROFRESP:\n",
      "This amount represents a one-time cost to cover fund organizational and operating expenses.\n",
      "This amount represents a one time fixed cost to cover fund organizational and operating expenses.\n",
      "This amount represents a cost to cover fund organizational and operating expenses.\n",
      "This amount represents a one-time fixed cost to cover fund organizational and operating expenses.\n",
      "This amount represents a one-time cost to cover the fund organizational and operating expenses.\n",
      "This amount represents a one-time cost to cover the organizational and operating expenses.\n",
      "This amount represents a one-time cost fee to cover the organizational and operating expenses.\n"
     ]
    }
   ],
   "source": [
    "print(\"GROSSPROCEEDSUSED_CLAROFRESP:\")\n",
    "examples = df[text_cols+['TOTALOFFERINGAMOUNT','TOTALAMOUNTSOLD']].iloc[idx].GROSSPROCEEDSUSED_CLAROFRESP.unique()\n",
    "examples = [item for item in examples if item != \"Not Applicable\"]\n",
    "for item in examples:\n",
    "    print(item)"
   ]
  },
  {
   "cell_type": "markdown",
   "metadata": {},
   "source": [
    "Cluster 6:"
   ]
  },
  {
   "cell_type": "code",
   "execution_count": 119,
   "metadata": {},
   "outputs": [
    {
     "data": {
      "text/html": [
       "<div>\n",
       "<style scoped>\n",
       "    .dataframe tbody tr th:only-of-type {\n",
       "        vertical-align: middle;\n",
       "    }\n",
       "\n",
       "    .dataframe tbody tr th {\n",
       "        vertical-align: top;\n",
       "    }\n",
       "\n",
       "    .dataframe thead th {\n",
       "        text-align: right;\n",
       "    }\n",
       "</style>\n",
       "<table border=\"1\" class=\"dataframe\">\n",
       "  <thead>\n",
       "    <tr style=\"text-align: right;\">\n",
       "      <th></th>\n",
       "      <th>DESCRIPTIONOFOTHERTYPE</th>\n",
       "      <th>BUSCOMBCLARIFICATIONOFRESP</th>\n",
       "      <th>SALESAMTCLARIFICATIONOFRESP</th>\n",
       "      <th>FINDERFEECLARIFICATIONOFRESP</th>\n",
       "      <th>GROSSPROCEEDSUSED_CLAROFRESP</th>\n",
       "      <th>TOTALOFFERINGAMOUNT</th>\n",
       "      <th>TOTALAMOUNTSOLD</th>\n",
       "    </tr>\n",
       "  </thead>\n",
       "  <tbody>\n",
       "    <tr>\n",
       "      <th>29</th>\n",
       "      <td>Not Applicable</td>\n",
       "      <td>Not Applicable</td>\n",
       "      <td>Not Applicable</td>\n",
       "      <td>Not Applicable</td>\n",
       "      <td>This amount represents a one-time cost to cove...</td>\n",
       "      <td>1055000.0</td>\n",
       "      <td>1055000.0</td>\n",
       "    </tr>\n",
       "    <tr>\n",
       "      <th>32</th>\n",
       "      <td>Not Applicable</td>\n",
       "      <td>Not Applicable</td>\n",
       "      <td>Not Applicable</td>\n",
       "      <td>Not Applicable</td>\n",
       "      <td>This amount represents a one-time cost to cove...</td>\n",
       "      <td>750000.0</td>\n",
       "      <td>750000.0</td>\n",
       "    </tr>\n",
       "    <tr>\n",
       "      <th>34</th>\n",
       "      <td>Not Applicable</td>\n",
       "      <td>Not Applicable</td>\n",
       "      <td>Not Applicable</td>\n",
       "      <td>Not Applicable</td>\n",
       "      <td>This amount represents a one-time cost to cove...</td>\n",
       "      <td>2041200.0</td>\n",
       "      <td>2041200.0</td>\n",
       "    </tr>\n",
       "    <tr>\n",
       "      <th>329</th>\n",
       "      <td>Not Applicable</td>\n",
       "      <td>Not Applicable</td>\n",
       "      <td>Not Applicable</td>\n",
       "      <td>Not Applicable</td>\n",
       "      <td>This amount represents a one-time cost to cove...</td>\n",
       "      <td>470000.0</td>\n",
       "      <td>470000.0</td>\n",
       "    </tr>\n",
       "    <tr>\n",
       "      <th>331</th>\n",
       "      <td>Not Applicable</td>\n",
       "      <td>Not Applicable</td>\n",
       "      <td>Not Applicable</td>\n",
       "      <td>Not Applicable</td>\n",
       "      <td>This amount represents a one-time cost to cove...</td>\n",
       "      <td>34442.0</td>\n",
       "      <td>34442.0</td>\n",
       "    </tr>\n",
       "  </tbody>\n",
       "</table>\n",
       "</div>"
      ],
      "text/plain": [
       "    DESCRIPTIONOFOTHERTYPE BUSCOMBCLARIFICATIONOFRESP  \\\n",
       "29          Not Applicable             Not Applicable   \n",
       "32          Not Applicable             Not Applicable   \n",
       "34          Not Applicable             Not Applicable   \n",
       "329         Not Applicable             Not Applicable   \n",
       "331         Not Applicable             Not Applicable   \n",
       "\n",
       "    SALESAMTCLARIFICATIONOFRESP FINDERFEECLARIFICATIONOFRESP  \\\n",
       "29               Not Applicable               Not Applicable   \n",
       "32               Not Applicable               Not Applicable   \n",
       "34               Not Applicable               Not Applicable   \n",
       "329              Not Applicable               Not Applicable   \n",
       "331              Not Applicable               Not Applicable   \n",
       "\n",
       "                          GROSSPROCEEDSUSED_CLAROFRESP  TOTALOFFERINGAMOUNT  \\\n",
       "29   This amount represents a one-time cost to cove...            1055000.0   \n",
       "32   This amount represents a one-time cost to cove...             750000.0   \n",
       "34   This amount represents a one-time cost to cove...            2041200.0   \n",
       "329  This amount represents a one-time cost to cove...             470000.0   \n",
       "331  This amount represents a one-time cost to cove...              34442.0   \n",
       "\n",
       "     TOTALAMOUNTSOLD  \n",
       "29         1055000.0  \n",
       "32          750000.0  \n",
       "34         2041200.0  \n",
       "329         470000.0  \n",
       "331          34442.0  "
      ]
     },
     "execution_count": 119,
     "metadata": {},
     "output_type": "execute_result"
    }
   ],
   "source": [
    "idx = y_binned[kmout.labels_ == 5].index\n",
    "#df[text_cols+['TOTALOFFERINGAMOUNT','TOTALAMOUNTSOLD']].iloc[idx].to_excel('test.xlsx')\n",
    "df[text_cols+['TOTALOFFERINGAMOUNT','TOTALAMOUNTSOLD']].iloc[idx].head(5)"
   ]
  },
  {
   "cell_type": "code",
   "execution_count": 123,
   "metadata": {},
   "outputs": [
    {
     "name": "stdout",
     "output_type": "stream",
     "text": [
      "GROSSPROCEEDSUSED_CLAROFRESP:\n",
      "This amount represents a one-time cost to cover fund organizational and operating expenses.\n",
      "This amount represents a one time fixed cost to cover fund organizational and operating expenses.\n",
      "This amount represents a cost to cover fund organizational and operating expenses.\n",
      "This amount represents a one-time fixed cost to cover fund organizational and operating expenses.\n",
      "This amount represents a one-time cost to cover the fund organizational and operating expenses.\n",
      "This amount represents a one-time cost to cover the organizational and operating expenses.\n",
      "This amount represents a one-time cost fee to cover the organizational and operating expenses.\n"
     ]
    }
   ],
   "source": [
    "print(\"GROSSPROCEEDSUSED_CLAROFRESP:\")\n",
    "examples = df[text_cols+['TOTALOFFERINGAMOUNT','TOTALAMOUNTSOLD']].iloc[idx].GROSSPROCEEDSUSED_CLAROFRESP.unique()\n",
    "examples = [item for item in examples if item != \"Not Applicable\"]\n",
    "for item in examples:\n",
    "    print(item)"
   ]
  },
  {
   "cell_type": "markdown",
   "metadata": {},
   "source": [
    "Upon inspecting the files, we notice a common feature to almost all the entries with 100% securities sold: the string \"one-time cost to cover organizational and operating expenses\" showing up in the clarification provided to the gross proceeds used.\n",
    "\n",
    "This can be a predictor for the percentage of securities sold – if a company makes a one-time payment to its promoters using the proceeds of its sales, and if it can be determined that it's for the organizational and operating expenses, then it's likely that the company will sell all of its offerings."
   ]
  },
  {
   "cell_type": "markdown",
   "metadata": {},
   "source": [
    "As a proxy for the numerical estimate for the likelihood that a listing with this characteristic has a good sales proportion (between 0.8 to 1), we look at the proportion of members of clusters 2 and 6 that belong to bin 5.\n",
    "\n",
    "To justify this assumption, we use the following reasoning – the members belonging to a cluster are similar, and we can assume that the clustering is exhaustive, i.e., all the data that has this particular characteristic belongs to the cluster. In this case, we combine clusters 2 and 6 since we've found them to exhibit similar characteristics."
   ]
  },
  {
   "cell_type": "code",
   "execution_count": 143,
   "metadata": {},
   "outputs": [
    {
     "data": {
      "text/plain": [
       "0.8963"
      ]
     },
     "execution_count": 143,
     "metadata": {},
     "output_type": "execute_result"
    }
   ],
   "source": [
    "round(np.where(y_binned[(kmout.labels_ == 1) | (kmout.labels_ == 5)]==5,1,0).mean(),4)"
   ]
  },
  {
   "cell_type": "markdown",
   "metadata": {},
   "source": [
    "The interpretation is that if a company makes a one-time payment to its promoters using the proceeds of its sales, and if it can be determined that it's for the organizational and operating expenses, there's a likelihood of 89.63% that it sells 80-100% of its offerings."
   ]
  },
  {
   "cell_type": "markdown",
   "metadata": {},
   "source": [
    "### Cluster 8: low percentage of offerings sold"
   ]
  },
  {
   "cell_type": "markdown",
   "metadata": {},
   "source": [
    "Next, we look at cluster 8, which contains a majority of its members in bins other than 5, i.e., it's likely that the firm does not sell all of its securities. Further, we see that around half of the members are in bins 1 and 2, meaning that the firm sells less than 40% of its securities.\n",
    "\n",
    "We follow a similar approach as before: visually inspect the data to recognize important columns, then print the unique values from those columns."
   ]
  },
  {
   "cell_type": "code",
   "execution_count": 132,
   "metadata": {},
   "outputs": [
    {
     "data": {
      "text/html": [
       "<div>\n",
       "<style scoped>\n",
       "    .dataframe tbody tr th:only-of-type {\n",
       "        vertical-align: middle;\n",
       "    }\n",
       "\n",
       "    .dataframe tbody tr th {\n",
       "        vertical-align: top;\n",
       "    }\n",
       "\n",
       "    .dataframe thead th {\n",
       "        text-align: right;\n",
       "    }\n",
       "</style>\n",
       "<table border=\"1\" class=\"dataframe\">\n",
       "  <thead>\n",
       "    <tr style=\"text-align: right;\">\n",
       "      <th></th>\n",
       "      <th>DESCRIPTIONOFOTHERTYPE</th>\n",
       "      <th>BUSCOMBCLARIFICATIONOFRESP</th>\n",
       "      <th>SALESAMTCLARIFICATIONOFRESP</th>\n",
       "      <th>FINDERFEECLARIFICATIONOFRESP</th>\n",
       "      <th>GROSSPROCEEDSUSED_CLAROFRESP</th>\n",
       "      <th>TOTALOFFERINGAMOUNT</th>\n",
       "      <th>TOTALAMOUNTSOLD</th>\n",
       "    </tr>\n",
       "  </thead>\n",
       "  <tbody>\n",
       "    <tr>\n",
       "      <th>434</th>\n",
       "      <td>Not Applicable</td>\n",
       "      <td>Not Applicable</td>\n",
       "      <td>Regarding Item 11, the Issuer may accept small...</td>\n",
       "      <td>Not Applicable</td>\n",
       "      <td>Not Applicable</td>\n",
       "      <td>500000000.0</td>\n",
       "      <td>189725000.0</td>\n",
       "    </tr>\n",
       "    <tr>\n",
       "      <th>607</th>\n",
       "      <td>Not Applicable</td>\n",
       "      <td>Not Applicable</td>\n",
       "      <td>Regarding Item 11, the Issuer may accept small...</td>\n",
       "      <td>Sales Commissions include estimates of the max...</td>\n",
       "      <td>Item 16 is an estimate of acquisition fees, re...</td>\n",
       "      <td>209327056.0</td>\n",
       "      <td>75265986.0</td>\n",
       "    </tr>\n",
       "    <tr>\n",
       "      <th>631</th>\n",
       "      <td>Not Applicable</td>\n",
       "      <td>Not Applicable</td>\n",
       "      <td>Regarding Item 11, the Issuer may accept small...</td>\n",
       "      <td>Sales Commissions include estimates of the max...</td>\n",
       "      <td>Item 16 is an estimate of acquisition fees, re...</td>\n",
       "      <td>49986820.0</td>\n",
       "      <td>49971932.0</td>\n",
       "    </tr>\n",
       "    <tr>\n",
       "      <th>639</th>\n",
       "      <td>Not Applicable</td>\n",
       "      <td>Not Applicable</td>\n",
       "      <td>Regarding Item 11, the Issuer may accept small...</td>\n",
       "      <td>Sales Commissions include estimates of the max...</td>\n",
       "      <td>Item 16 is an estimate of acquisition fees, re...</td>\n",
       "      <td>79741563.0</td>\n",
       "      <td>79578887.0</td>\n",
       "    </tr>\n",
       "    <tr>\n",
       "      <th>966</th>\n",
       "      <td>Not Applicable</td>\n",
       "      <td>Not Applicable</td>\n",
       "      <td>Not Applicable</td>\n",
       "      <td>Not Applicable</td>\n",
       "      <td>Acquisition Fee</td>\n",
       "      <td>2500000.0</td>\n",
       "      <td>250000.0</td>\n",
       "    </tr>\n",
       "  </tbody>\n",
       "</table>\n",
       "</div>"
      ],
      "text/plain": [
       "    DESCRIPTIONOFOTHERTYPE BUSCOMBCLARIFICATIONOFRESP  \\\n",
       "434         Not Applicable             Not Applicable   \n",
       "607         Not Applicable             Not Applicable   \n",
       "631         Not Applicable             Not Applicable   \n",
       "639         Not Applicable             Not Applicable   \n",
       "966         Not Applicable             Not Applicable   \n",
       "\n",
       "                           SALESAMTCLARIFICATIONOFRESP  \\\n",
       "434  Regarding Item 11, the Issuer may accept small...   \n",
       "607  Regarding Item 11, the Issuer may accept small...   \n",
       "631  Regarding Item 11, the Issuer may accept small...   \n",
       "639  Regarding Item 11, the Issuer may accept small...   \n",
       "966                                     Not Applicable   \n",
       "\n",
       "                          FINDERFEECLARIFICATIONOFRESP  \\\n",
       "434                                     Not Applicable   \n",
       "607  Sales Commissions include estimates of the max...   \n",
       "631  Sales Commissions include estimates of the max...   \n",
       "639  Sales Commissions include estimates of the max...   \n",
       "966                                     Not Applicable   \n",
       "\n",
       "                          GROSSPROCEEDSUSED_CLAROFRESP  TOTALOFFERINGAMOUNT  \\\n",
       "434                                     Not Applicable          500000000.0   \n",
       "607  Item 16 is an estimate of acquisition fees, re...          209327056.0   \n",
       "631  Item 16 is an estimate of acquisition fees, re...           49986820.0   \n",
       "639  Item 16 is an estimate of acquisition fees, re...           79741563.0   \n",
       "966                                    Acquisition Fee            2500000.0   \n",
       "\n",
       "     TOTALAMOUNTSOLD  \n",
       "434      189725000.0  \n",
       "607       75265986.0  \n",
       "631       49971932.0  \n",
       "639       79578887.0  \n",
       "966         250000.0  "
      ]
     },
     "execution_count": 132,
     "metadata": {},
     "output_type": "execute_result"
    }
   ],
   "source": [
    "idx = y_binned[kmout.labels_ == 7].index\n",
    "#df[text_cols+['TOTALOFFERINGAMOUNT','TOTALAMOUNTSOLD']].iloc[idx].to_excel('test.xlsx')\n",
    "df[text_cols+['TOTALOFFERINGAMOUNT','TOTALAMOUNTSOLD']].iloc[idx].head(5)"
   ]
  },
  {
   "cell_type": "code",
   "execution_count": 133,
   "metadata": {},
   "outputs": [
    {
     "name": "stdout",
     "output_type": "stream",
     "text": [
      "SALESAMTCLARIFICATIONOFRESP:\n",
      "Regarding Item 11, the Issuer may accept smaller investments in the Sponsor's sole discretion.\n",
      "Regarding Item 11, the Issuer may accept smaller investments in the Issuer's sole discretion.\n",
      "Regarding Item 11, The Issuer may accept smaller investments at the Sponsor's sole discretion.\n",
      "\n",
      "FINDERFEECLARIFICATIONOFRESP:\n",
      "Sales Commissions include estimates of the maximum amount of Selling Commissions, Dealer Fees and Placement Agent Fees that may be paid.\n",
      "Sales Commissions include estimates of the maximum amount of Selling Commissions and Dealer Fees that may be paid.\n",
      "Placement fees may be waived in whole or in part by the Issuer in its discretion.\n",
      "Sales Commissions include estimates of the maximum amount of Selling Commissions, Dealer Fees and Expense Reimbursements that may be paid.\n",
      "Sales commissions includes estimates of the maximum amount of selling commissions and dealer manager fees that may be paid.\n",
      "Placement Fee Commissions.\n",
      "Sales Commissions include estimates of the maximum amount of Selling Commissions that may be paid.\n",
      "\n",
      "GROSSPROCEEDSUSED_CLAROFRESP:\n",
      "Item 16 is an estimate of acquisition fees, reimbursements for certain acquisition and financing costs, and offering and organizational expenses that may accrue to one or more Related Persons.\n",
      "Acquisition Fee\n",
      "Item 16 is an estimate of acquisition fees and offering and organizational expenses that may accrue to one or more Related Persons.\n",
      "Item 16 is an estimate of offering and organizational expenses that may accrue to one or more Related Persons.\n",
      "Item 16 is an estimate of offering expenses and acquisition fees that may accrue to one or more Related Persons.\n",
      "Estimate of certain fees and expenses including Organization and Offering Expenses which may accrue to one or more related persons.\n",
      "acquisition fee\n",
      "Estimate of certain fees, including the Due Diligence Allowance, Placement Agent Fee, Marketing Allowance, Organization Costs and Sponsor Acquisition Fee that may accrue to one or more related persons.\n",
      "An estimate of dealer manager fees, acquisition fees (assuming no debt or other sources) and reimbursements for O&O expenses, each of which may indirectly be paid to one or more related persons.\n",
      "Estimate of certain fees, including Dealer Fee, Placement Agent Fee, O&O Expenses, Acquisition Fee and Reimbursement of Acquisition and Financing that may accrue to one or more related persons.\n",
      "Estimate of certain fees including Acquisition Fee, Dealer Manager Fee, Organization and Offering Costs and Trust Reserve and other expenses that may accrue to one or more related persons.\n",
      "Estimate of certain fees, including Dealer Fee, Placement Agent Fee, O&O Expenses, Acquisition Fee and reimbursement of acquisition and financing of Property that may accrue to one or more related persons.\n",
      "Item 16 is an estimate of fees and expenses that may accrue to one or more Related Persons.\n",
      "Acquisition fee.\n",
      "Estimate for certain fees, including the Dealer Fee, Acquisition Fee, Offering and Organizational Expenses, Placement Agent Fee, and Reimbursement of Acquisition Fee that may accrue to one or more related persons.\n",
      "Acquisition fee paid to the Manager\n",
      "Acquisition Fees\n",
      "Acquisition Fees.\n",
      "The Manager of Issuer will be paid an acquisition fee.\n",
      "Estimate of certain fees that may be paid and offering and organizational expenses that may be reimbursed to one or more Related Persons.\n",
      "Acquisition fees and estimated Asset Management Fees.\n",
      "Estimate of certain fees, including the Dealer Fee, Placement Agent Fee, Offering and Organizational Expenses, Acquisition Fee and Reimbursement of Acquisition and Financing that may accrue to one or more related persons.\n",
      "Estimate of certain fees, including Dealer Fee, Placement Agent Fee, O&O Expenses, Acquisition Fee and reimbursement of costs related to acquisition of property that may accrue to one or more related persons.\n",
      "Item 16 is an estimate of expenses that may accrue to one or more Related Persons.\n"
     ]
    }
   ],
   "source": [
    "print(\"SALESAMTCLARIFICATIONOFRESP:\")\n",
    "examples = df[text_cols+['TOTALOFFERINGAMOUNT','TOTALAMOUNTSOLD']].iloc[idx].SALESAMTCLARIFICATIONOFRESP.unique()\n",
    "examples = [item for item in examples if item != \"Not Applicable\"]\n",
    "for item in examples:\n",
    "    print(item)\n",
    "\n",
    "print()\n",
    "print(\"FINDERFEECLARIFICATIONOFRESP:\")\n",
    "examples = df[text_cols+['TOTALOFFERINGAMOUNT','TOTALAMOUNTSOLD']].iloc[idx].FINDERFEECLARIFICATIONOFRESP.unique()\n",
    "examples = [item for item in examples if item != \"Not Applicable\"]\n",
    "for item in examples:\n",
    "    print(item)\n",
    "\n",
    "print()\n",
    "print(\"GROSSPROCEEDSUSED_CLAROFRESP:\")\n",
    "examples = df[text_cols+['TOTALOFFERINGAMOUNT','TOTALAMOUNTSOLD']].iloc[idx].GROSSPROCEEDSUSED_CLAROFRESP.unique()\n",
    "examples = [item for item in examples if item != \"Not Applicable\"]\n",
    "for item in examples:\n",
    "    print(item)"
   ]
  },
  {
   "cell_type": "markdown",
   "metadata": {},
   "source": [
    "Upon inspecting the texts, here are the features common to a majority of the securities that don't sell completely:\n",
    "- The issuer sometimes accepts investments smaller than the minimum investment specified.\n",
    "- The finder's fee provided is an estimate rather than the actual value.\n",
    "- The offering and organizational expenses provided are estimates.\n",
    "\n",
    "All of these could potentially bring into question the legitimacy and value of the securitiy being offered, and hence deter investors from buying them."
   ]
  },
  {
   "cell_type": "markdown",
   "metadata": {},
   "source": [
    "We also make an estimate for the likelihood that a company showing these features is likely to sell very little of its offerings, between 0-40%."
   ]
  },
  {
   "cell_type": "code",
   "execution_count": 145,
   "metadata": {},
   "outputs": [
    {
     "data": {
      "text/plain": [
       "0.5044"
      ]
     },
     "execution_count": 145,
     "metadata": {},
     "output_type": "execute_result"
    }
   ],
   "source": [
    "round(np.where((y_binned[kmout.labels_ == 7]==1) | (y_binned[kmout.labels_ == 7]==2),1,0).mean(),4)"
   ]
  },
  {
   "cell_type": "markdown",
   "metadata": {},
   "source": [
    "Meaning, there is a 50.44% likelihood that the company sells very little of its offerings."
   ]
  },
  {
   "cell_type": "markdown",
   "metadata": {},
   "source": [
    "### Cluster 4: medium percentage of offerings sold"
   ]
  },
  {
   "cell_type": "markdown",
   "metadata": {},
   "source": [
    "Finally, we look at cluster 4, which contains a large proportion of its members in bins 2, 3, and 4, meaning that they sold between 20-80% of their offerings.\n",
    "\n",
    "Again, we follow the same approach."
   ]
  },
  {
   "cell_type": "code",
   "execution_count": 134,
   "metadata": {},
   "outputs": [
    {
     "data": {
      "text/html": [
       "<div>\n",
       "<style scoped>\n",
       "    .dataframe tbody tr th:only-of-type {\n",
       "        vertical-align: middle;\n",
       "    }\n",
       "\n",
       "    .dataframe tbody tr th {\n",
       "        vertical-align: top;\n",
       "    }\n",
       "\n",
       "    .dataframe thead th {\n",
       "        text-align: right;\n",
       "    }\n",
       "</style>\n",
       "<table border=\"1\" class=\"dataframe\">\n",
       "  <thead>\n",
       "    <tr style=\"text-align: right;\">\n",
       "      <th></th>\n",
       "      <th>DESCRIPTIONOFOTHERTYPE</th>\n",
       "      <th>BUSCOMBCLARIFICATIONOFRESP</th>\n",
       "      <th>SALESAMTCLARIFICATIONOFRESP</th>\n",
       "      <th>FINDERFEECLARIFICATIONOFRESP</th>\n",
       "      <th>GROSSPROCEEDSUSED_CLAROFRESP</th>\n",
       "      <th>TOTALOFFERINGAMOUNT</th>\n",
       "      <th>TOTALAMOUNTSOLD</th>\n",
       "    </tr>\n",
       "  </thead>\n",
       "  <tbody>\n",
       "    <tr>\n",
       "      <th>23</th>\n",
       "      <td>Convertible Promissory Notes</td>\n",
       "      <td>Not Applicable</td>\n",
       "      <td>Not Applicable</td>\n",
       "      <td>Not Applicable</td>\n",
       "      <td>Not Applicable</td>\n",
       "      <td>300000.0</td>\n",
       "      <td>30000.0</td>\n",
       "    </tr>\n",
       "    <tr>\n",
       "      <th>311</th>\n",
       "      <td>Unsecured convertible notes</td>\n",
       "      <td>Not Applicable</td>\n",
       "      <td>Not Applicable</td>\n",
       "      <td>Not Applicable</td>\n",
       "      <td>Not Applicable</td>\n",
       "      <td>2000000.0</td>\n",
       "      <td>0.0</td>\n",
       "    </tr>\n",
       "    <tr>\n",
       "      <th>450</th>\n",
       "      <td>Convertible Promissory Notes</td>\n",
       "      <td>Not Applicable</td>\n",
       "      <td>Not Applicable</td>\n",
       "      <td>Not Applicable</td>\n",
       "      <td>No payments other than ordinary course employm...</td>\n",
       "      <td>4000000.0</td>\n",
       "      <td>2640000.0</td>\n",
       "    </tr>\n",
       "    <tr>\n",
       "      <th>530</th>\n",
       "      <td>SAFE Notes</td>\n",
       "      <td>Not Applicable</td>\n",
       "      <td>Not Applicable</td>\n",
       "      <td>Not Applicable</td>\n",
       "      <td>Not Applicable</td>\n",
       "      <td>3000000.0</td>\n",
       "      <td>2400000.0</td>\n",
       "    </tr>\n",
       "    <tr>\n",
       "      <th>583</th>\n",
       "      <td>Convertible Note</td>\n",
       "      <td>Not Applicable</td>\n",
       "      <td>Not Applicable</td>\n",
       "      <td>Not Applicable</td>\n",
       "      <td>Not Applicable</td>\n",
       "      <td>10000000.0</td>\n",
       "      <td>3000000.0</td>\n",
       "    </tr>\n",
       "  </tbody>\n",
       "</table>\n",
       "</div>"
      ],
      "text/plain": [
       "           DESCRIPTIONOFOTHERTYPE BUSCOMBCLARIFICATIONOFRESP  \\\n",
       "23   Convertible Promissory Notes             Not Applicable   \n",
       "311   Unsecured convertible notes             Not Applicable   \n",
       "450  Convertible Promissory Notes             Not Applicable   \n",
       "530                    SAFE Notes             Not Applicable   \n",
       "583              Convertible Note             Not Applicable   \n",
       "\n",
       "    SALESAMTCLARIFICATIONOFRESP FINDERFEECLARIFICATIONOFRESP  \\\n",
       "23               Not Applicable               Not Applicable   \n",
       "311              Not Applicable               Not Applicable   \n",
       "450              Not Applicable               Not Applicable   \n",
       "530              Not Applicable               Not Applicable   \n",
       "583              Not Applicable               Not Applicable   \n",
       "\n",
       "                          GROSSPROCEEDSUSED_CLAROFRESP  TOTALOFFERINGAMOUNT  \\\n",
       "23                                      Not Applicable             300000.0   \n",
       "311                                     Not Applicable            2000000.0   \n",
       "450  No payments other than ordinary course employm...            4000000.0   \n",
       "530                                     Not Applicable            3000000.0   \n",
       "583                                     Not Applicable           10000000.0   \n",
       "\n",
       "     TOTALAMOUNTSOLD  \n",
       "23           30000.0  \n",
       "311              0.0  \n",
       "450        2640000.0  \n",
       "530        2400000.0  \n",
       "583        3000000.0  "
      ]
     },
     "execution_count": 134,
     "metadata": {},
     "output_type": "execute_result"
    }
   ],
   "source": [
    "idx = y_binned[kmout.labels_ == 3].index\n",
    "#df[text_cols+['TOTALOFFERINGAMOUNT','TOTALAMOUNTSOLD']].iloc[idx].to_excel('test.xlsx')\n",
    "df[text_cols+['TOTALOFFERINGAMOUNT','TOTALAMOUNTSOLD']].iloc[idx].head(5)"
   ]
  },
  {
   "cell_type": "code",
   "execution_count": 136,
   "metadata": {},
   "outputs": [
    {
     "name": "stdout",
     "output_type": "stream",
     "text": [
      "DESCRIPTIONOFOTHERTYPE:\n",
      "Convertible Promissory Notes\n",
      "Unsecured convertible notes\n",
      "SAFE Notes\n",
      "Convertible Note\n",
      "Certain Convertible Promissory Notes that were converted into SAFEs (Simple Agreement for Future Equity), and additional SAFEs\n",
      "Convertible Notes\n",
      "Promissory notes convertible into equity securities of the Issuer.\n",
      "Convertible Promissory Notes with Warrants (Sept. 8, 2022)\n",
      "notes with warrants\n",
      "convertible promissory notes\n",
      "Convertible promissory notes convertible into equity securities of the Issuer and the equity securities to be acquired upon such conversion.\n",
      "Safe Note Convertible Equity\n",
      "conversion of notes\n",
      "convertible promissory note\n",
      "Offering of convertible promissory notes  and the underlying equity securities issuable upon such conversion.\n",
      "Convertible promissory notes\n",
      "Convertible Securities\n",
      "Convertible note\n",
      "Convertible debt\n",
      "Convertible Debt\n",
      "Convertible Promissory B Note\n",
      "Convertible promissory notes, convertible into equity\n",
      "Convertible promissory notes and Common Stock issuable upon conversion\n",
      "Notes convertible into common stock\n",
      "Secured convertible notes\n",
      "Convertible promissory note, and common stock issuable upon conversion of such note.\n",
      "Convertible Promissory Notes; Common Stock or Series A-1 Preferred Stock underlying the convertible promissory notes.\n",
      "SAFE - convertible equity\n",
      "Subordinated Convertible Promissory Note\n",
      "Convertible Promissory Note\n",
      "The convertible promissory note may be paid in cash or converted into an indeterminate number of shares of Common Stock.\n",
      "Convertible promissory notes and warrants and the common stock issuable upon conversion thereof.\n",
      "The convertible promissory notes (debt) sold by Issuer, the shares of capital stock of Issuer into which the convertible promissory notes are convertible (note shares), and the capital stock of Issuer into which the note shares are convertible.\n",
      "Convertible Promissory Notes and Simple Agreements for Future Equity and the shares of common or preferred stock issuable upon conversion of such instruments\n",
      "convertible notes\n",
      "Promissory Note convertible into equity.\n",
      "Convertible Promissory Notes; SAFEs; Underlying Equity Securities\n",
      "Debt convertible into equity\n",
      "Warrant convertible into equity securities of the Issuer\n",
      "Notes are convertible into equity upon occurrence of certain events.\n",
      "Issuance of convertible debt and the securities issuable pursuant there to\n",
      "8% Convertible Promissory Notes\n",
      "Subordinated Convertible Promissory Notes\n",
      "Convertible Subordinated Promissory Notes\n",
      "Convertible (into LLC membership interests) Note\n",
      "Unsecured promissory notes\n",
      "Convertible Promissory Notes and the Equity Securities issuable upon conversion of such Notes\n",
      "The Company completed an offering of Convertible Notes.\n",
      "Convertible Promissory Note and the shares issuable on conversion\n",
      "Debt convertible into equity.\n"
     ]
    }
   ],
   "source": [
    "print(\"DESCRIPTIONOFOTHERTYPE:\")\n",
    "examples = df[text_cols+['TOTALOFFERINGAMOUNT','TOTALAMOUNTSOLD']].iloc[idx].DESCRIPTIONOFOTHERTYPE.unique()\n",
    "examples = [item for item in examples if item != \"Not Applicable\"]\n",
    "for item in examples:\n",
    "    print(item)"
   ]
  },
  {
   "cell_type": "markdown",
   "metadata": {},
   "source": [
    "The conclusion here is apparent – this cluster majorly contains securities of the \"Other\" type, specifically convertible promissory notes and SAFEs (simple agreement for future equity). These are both popularly used by start-ups to raise money from investors, and pay them back later.\n",
    "\n",
    "What we can conclude here is that start-ups making offerings are semi-popular: while they do not completely sell out all the offerings, investors show a fair amount of interest in them."
   ]
  },
  {
   "cell_type": "markdown",
   "metadata": {},
   "source": [
    "Like before, we make an estimate of the likelihood."
   ]
  },
  {
   "cell_type": "code",
   "execution_count": 147,
   "metadata": {},
   "outputs": [
    {
     "data": {
      "text/plain": [
       "0.569"
      ]
     },
     "execution_count": 147,
     "metadata": {},
     "output_type": "execute_result"
    }
   ],
   "source": [
    "round(np.where((y_binned[kmout.labels_ == 3]==2) | ((y_binned[kmout.labels_ == 3]==3) | (y_binned[kmout.labels_ == 3]==4)),1,0).mean(),4)"
   ]
  },
  {
   "cell_type": "markdown",
   "metadata": {},
   "source": [
    "Meaning, an offering for this particular type of security has a 56.9% likelihood of selling between 20-80%."
   ]
  },
  {
   "cell_type": "markdown",
   "metadata": {},
   "source": [
    "## Conclusion"
   ]
  },
  {
   "cell_type": "markdown",
   "metadata": {},
   "source": [
    "To answer the original question, we find that the following features help predict the percentage of offerings sold:\n",
    "1. *DESCRIPTIONOFOTHERTYPE*\n",
    "\n",
    "    If the security being offered is a convertible promissory note or a SAFE (simple agreement for future equity), then it is 56.9% likely to sell between 20-80% of the amount being offered. This could be explained by the fact that start-ups, which usually offer these securities to early investors, are semi-popular.\n",
    "\n",
    "2. *GROSSPROCEEDSUSED_CLAROFRESP*\n",
    "\n",
    "    If a company makes a one-time payment to its promoters using the proceeds of its sales, and if it can be determined that it's for the organizational and operating expenses, then it is 89.63% likely that the offering sells out completely. This could be attributed to the company being transparent and strong, as the payment is one-time and we can ascertain what it's being put to use for.\n",
    "\n",
    "    However, if the company is vague about the amount of proceeds used to pay the promoters, and only provides an estimate of the various fees that were paid, it brings into question the legitimacy of the offering and about what the raised money will actually be used for, and hence it is 50.44% likely that the company only sells 0-20% of the offerings.\n",
    "\n",
    "3. *SALESAMTCLARIFICATIONOFRESP*\n",
    "    \n",
    "    If a company sometimes accepts investments below the minimum investment amount on the discretion of company management, it again brings into question the legitimacy of the offering and if there are some vested interests these investors have. It is 50.44% likely that the company will only sell 0-20% of the offerings if that is the case.\n",
    "\n",
    "4. *FINDERFEECLARIFICATIONOFRESP*\n",
    "\n",
    "    Similar to the case where the gross proceeds used were an estimate, if the finders fee is an estimated value and the company doesn't provide the actual value for the sales commissions, investors may worry about the money raised being put to use in ways that isn't in the best interest of the investors. Hence, it is 50.44% likely that the company will only sell 0-20% of its offerings.\n"
   ]
  }
 ],
 "metadata": {
  "kernelspec": {
   "display_name": "Python 3.9.12 ('base')",
   "language": "python",
   "name": "python3"
  },
  "language_info": {
   "codemirror_mode": {
    "name": "ipython",
    "version": 3
   },
   "file_extension": ".py",
   "mimetype": "text/x-python",
   "name": "python",
   "nbconvert_exporter": "python",
   "pygments_lexer": "ipython3",
   "version": "3.9.12"
  },
  "orig_nbformat": 4,
  "vscode": {
   "interpreter": {
    "hash": "417f4c96b8a93166877ea833783777985ebd49905c42bc4a2c46f36438998e4c"
   }
  }
 },
 "nbformat": 4,
 "nbformat_minor": 2
}
