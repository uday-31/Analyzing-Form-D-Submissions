{
 "cells": [
  {
   "cell_type": "markdown",
   "metadata": {},
   "source": [
    "Group PGH013: Dhruv Baid, Guolun Li, Shangyu Li, Uday Sharma, Yi Xin Xiang"
   ]
  },
  {
   "cell_type": "code",
   "execution_count": 1,
   "metadata": {},
   "outputs": [],
   "source": [
    "import pandas as pd\n",
    "import numpy as np\n",
    "import nltk\n",
    "from nltk.tokenize import sent_tokenize, word_tokenize\n",
    "from nltk.sentiment.util import mark_negation\n",
    "from nltk.stem import WordNetLemmatizer\n",
    "from nltk.corpus import stopwords\n",
    "from sklearn.feature_extraction.text import TfidfVectorizer\n",
    "import re\n",
    "import matplotlib.pyplot as plt\n",
    "import seaborn as sns\n",
    "import warnings; warnings.filterwarnings(\"ignore\")\n",
    "plt.style.use(\"seaborn\")"
   ]
  },
  {
   "cell_type": "markdown",
   "metadata": {},
   "source": [
    "**Introduction – Data Description, Cleaning, and Pre-Processing** "
   ]
  },
  {
   "cell_type": "code",
   "execution_count": 3,
   "metadata": {},
   "outputs": [],
   "source": [
    "df = pd.read_csv('OFFERING.tsv', sep='\\t') # read the file"
   ]
  },
  {
   "cell_type": "markdown",
   "metadata": {},
   "source": [
    "The data are obtained from the SEC website, as a part of their Form D datasets. It contains information on the Form D submissions filed by companies in their EDGAR document submissions.\n",
    "\n",
    "The file contains information on new securities offered, with each row corresponding to a unique EDGAR submission. There are 14187 rows, where each row corresponds to a Form D submission by a company, where the company is looking to offer new securities.  The columns include accession number, which is a unique identifier for each submission, and other characteristics of that submission. There are 41 columns including the accession number.\n"
   ]
  },
  {
   "cell_type": "markdown",
   "metadata": {},
   "source": [
    "| Number | Variable | Description | Type |\n",
    "| --- | --- | --- | --- \n",
    "| 1 | ACCESSIONNUMBER | This is the unique identifier for each row (company), and it corresponds to an EDGAR submission. It is alphanumeric with 20 characters, and of the format *xxxxxxxxxx-xx-xxxxxx*. | string |\n",
    "| 2 | INDUSTRYGROUPTYPE | This describes the type of industry the company is from. | category |\n",
    "| 3 | INVESTMENTFUNDTYPE | This describes the type of security offered by the company. | category |\n",
    "| 4 | IS40ACT | This is a flag variable to indicate whether the issuer is registered as an investment company under the Investment Company Act of 1940. | category |\n",
    "| 5 | REVENUERANGE | The dollar range for the revenue of the company, if disclosed. This is only applicable to companies that are not hedge or other pooled investment funds. | category |\n",
    "| 6 | AGGREGATENETASSETVALUERANGE | The dollar range for the aggregate net asset value for the company, if disclosed. This is only applicable to hedge and other pooled investment funds. | category |\n",
    "| 7 | FEDERALEXEMPTIONS_ITEMS_LIST | Lists the exemptions given to the company under the Securities Act. | category (multiple possible) |\n",
    "| 8 | ISAMENDMENT | Whether the listing is an amendment (as opposed to a new notice). | boolean |\n",
    "| 9 | PREVIOUSACCESSIONNUMBER | The previous accession number the company had, if any. | string |\n",
    "| 10 | SALE_DATE | The date the security was sold. | datetime |\n",
    "| 11 | YETTOOCCUR | Whether the sale is yet to occur.  | boolean |\n",
    "| 12 | MORETHANONEYEAR | Whether the duration of the offering is more than one year. | boolean |\n",
    "| 13 | ISEQUITYTYPE | Whether the offering is of the type equity. | boolean |\n",
    "| 14 | ISDEBTTYPE | Whether the offering is of the type debt. | boolean |\n",
    "| 15 | ISOPTIONTOACQUIRETYPE | Whether the offering is an option, warrant, or other right to acquire another security. | boolean |\n",
    "| 16 | ISSECURITYTOBEACQUIREDTYPE | Whether the offering is to be acquired upon exercise of option, warrant or other right to acquire security. | boolean |\n",
    "| 17 | ISPOOLEDINVESTMENTFUNDTYPE | Whether the offering is a pooled investment fund. | boolean |\n",
    "| 18 | ISTENTANTINCOMMONTYPE | Whether the offering is a tenant-in-common security. | boolean |\n",
    "| 19 | ISMINERALPROPERTYTYPE | Whether the offering is a mineral property security. | boolean |\n",
    "| 20 | ISOTHERTYPE | Whether the offering is of some other type. | boolean |\n",
    "| 21 | DESCRIPTIONOFOTHERTYPE | If the offering is of some other type, then its description. | string |\n",
    "| 22 | ISBUSINESSCOMBINATIONTRANS | Whether the offering was made in connection with a business combination transaction, like an M&A. | boolean |\n",
    "| 23 | BUSCOMBCLARIFICATIONOFRESP | The clarification of response provided, if any. | string |\n",
    "| 24 | MINIMUMINVESTMENTACCEPTED | Minimum investment accepted from an outside investor. | numeric |\n",
    "| 25 | OVER100RECIPIENTFLAG | Whether there are over 100 recipients for the offering. | boolean |\n",
    "| 26 | TOTALOFFERINGAMOUNT | Total amount that's being offered. | numeric |\n",
    "| 27 | TOTALAMOUNTSOLD | Total amount that was sold from the amount offered. | numeric |\n",
    "| 28 | TOTALREMAINING | Total amount remaining to be sold. | numeric |\n",
    "| 29 | SALESAMTCLARIFICATIONOFRESP | The clarification of response provided for the sales amount, if any. | string |\n",
    "| 30 | HASNONACCREDITEDINVESTORS | Whether the securities in the offering have been or may be sold to persons who do not qualify as accredited investors. | boolean |\n",
    "| 31 | NUMBERNONACCREDITEDINVESTORS | Number of such non-accredited investors, if any. | numeric |\n",
    "| 32 | TOTALNUMBERALREADYINVESTED | Total number of all investors that have invested in the offering, regardless of their accredited status.| numeric |\n",
    "| 33 | SALESCOMM_DOLLARAMOUNT | US dollar amount of sales commissions.| numeric |\n",
    "| 34 | SALESCOMM_ISESTIMATE | Whether the sales commission amount is an estimate.| boolean |\n",
    "| 35 | FINDERSFEE_DOLLARAMOUNT | The finders fee in USD.| numeric |\n",
    "| 36 | FINDERSFEE_ISESTIMATE | Whether the finders fee is an estimated value. | boolean |\n",
    "| 37 | FINDERFEECLARIFICATIONOFRESP | The clarification of response provided for the finders fee, if any. | string |\n",
    "| 38 | GROSSPROCEEDSUSED_DOLLARAMOUNT | The dollar amount of the gross proceeds of the offering used (or planned to be used) to make payments to promoters, executive officers or directors.| numeric |\n",
    "| 39 | GROSSPROCEEDSUSED_ISESTIMATE | Whether the dollar amount for the gross proceeds above is an estimate.| boolean |\n",
    "| 40 | GROSSPROCEEDSUSED_CLAROFRESP | The clarification of response provided for the above gross proceeds, if any.| string |\n",
    "| 41 | AUTHORIZEDREPRESENTATIVE | Whether the entity signing the form is a duly autorized representative of the issuer.| category |"
   ]
  },
  {
   "cell_type": "markdown",
   "metadata": {},
   "source": [
    "Out of the 41 columns, 26 of them have one or more missing values. In tackling these missing values, we use the following philosophy: we make a distinction between not knowing something versus knowing that something is not applicable. NaNs should represent \"lack of data\", or cases where the actual value is unknown. If something is not applicable, then we fill it in with \"Not Applicable\" instead, since the fact that something is not applicable is additional information in itself, and should be included in the analysis.\n"
   ]
  },
  {
   "cell_type": "markdown",
   "metadata": {},
   "source": [
    "If an offering doesn't have any non-accredited investors, either those who have already invested or those who may invest, i.e., HASNONACCREDITEDINVESTORS is False, then the field NUMBERNONACCREDITEDINVESTORS must be 0.\n",
    "\n",
    "To fix this, for cases when HASNONACCREDITEDINVESTORS is False, we fill in zeros for the NaN values in NUMBERNONACCREDITEDINVESTORS."
   ]
  },
  {
   "cell_type": "code",
   "execution_count": 8,
   "metadata": {},
   "outputs": [],
   "source": [
    "df.loc[df.HASNONACCREDITEDINVESTORS == False,'NUMBERNONACCREDITEDINVESTORS']\\\n",
    "=df[df.HASNONACCREDITEDINVESTORS == False].\\\n",
    "    NUMBERNONACCREDITEDINVESTORS.fillna(0)"
   ]
  },
  {
   "cell_type": "markdown",
   "metadata": {},
   "source": [
    "The following columns do not have any missing data:\n",
    "\n",
    "- ACCESSIONNUMBER\n",
    "- INDUSTRYGROUPTYPE\n",
    "- FEDERALEXEMPTIONS_ITEMS_LIST\n",
    "- ISAMENDMENT\n",
    "- MORETHANONEYEAR\n",
    "- ISBUSINESSCOMBINATIONTRANS\n",
    "- MINIMUMINVESTMENTACCEPTED\n",
    "- TOTALOFFERINGAMOUNT\n",
    "- TOTALAMOUNTSOLD\n",
    "- TOTALREMAINING\n",
    "- HASNONACCREDITEDINVESTORS\n",
    "- TOTALNUMBERALREADYINVESTED\n",
    "- SALESCOMM_DOLLARAMOUNT\n",
    "- FINDERSFEE_DOLLARAMOUNT\n",
    "- GROSSPROCEEDSUSED_DOLLARAMOUNT"
   ]
  },
  {
   "cell_type": "markdown",
   "metadata": {},
   "source": [
    "1\\. IS40ACT"
   ]
  },
  {
   "cell_type": "markdown",
   "metadata": {},
   "source": [
    "We see that in addition to True and False values, there are also NaN values. We can distinguish between the NaNs and False values after looking at the actual Form D: the True and False values are only applicable to firms that come under the \"Other Investment Fund\" subsubcategory in \"Banking and Financial Services\" -> \"Pooled Investment Fund\". \n",
    "\n",
    "Hence, it is a better idea to change this variable from boolean to categorical, and have \"Not Applicable\" as the third category."
   ]
  },
  {
   "cell_type": "code",
   "execution_count": 14,
   "metadata": {},
   "outputs": [],
   "source": [
    "df.IS40ACT = df.IS40ACT.fillna('Not Applicable')"
   ]
  },
  {
   "cell_type": "markdown",
   "metadata": {},
   "source": [
    "2\\. INVESTMENTFUNDTYPE"
   ]
  },
  {
   "cell_type": "markdown",
   "metadata": {},
   "source": [
    "There are around 5932 rows with missing values. On further inspection, we see that all of these missing values correspond to rows where the Investment Company Act of 1940 is not applicable. This makes sense since these companies are not Investment Funds in the first place, and hence cannot have a type.\n",
    "\n",
    "To fix this, we replace the NaN values with another category: \"Not Applicable\"."
   ]
  },
  {
   "cell_type": "code",
   "execution_count": 17,
   "metadata": {},
   "outputs": [],
   "source": [
    "df.INVESTMENTFUNDTYPE = df.INVESTMENTFUNDTYPE.fillna(\"Not Applicable\")"
   ]
  },
  {
   "cell_type": "markdown",
   "metadata": {},
   "source": [
    "3 and 4. REVENUERANGE and AGGREGATENETASSETVALUERANGE"
   ]
  },
  {
   "cell_type": "markdown",
   "metadata": {},
   "source": [
    "We observe that the sum of the number of missing values in the two columns is equal to the total number of rows we have. Looking at Form D, we see that REVENUERANGE is not applicable to firms that are \"hedge\" or \"other investment\" funds, and AGGREGATENETASSETVALUERANGE is not applicable to all the other firms.\n",
    "\n",
    "To fix this, we set the missing values to the category \"Not Applicable\" instead."
   ]
  },
  {
   "cell_type": "code",
   "execution_count": 19,
   "metadata": {},
   "outputs": [],
   "source": [
    "df.REVENUERANGE = df.REVENUERANGE.fillna(\"Not Applicable\")\n",
    "df.AGGREGATENETASSETVALUERANGE = df.AGGREGATENETASSETVALUERANGE.\\\n",
    "    fillna(\"Not Applicable\")"
   ]
  },
  {
   "cell_type": "markdown",
   "metadata": {},
   "source": [
    "5\\. PREVIOUSACCESSIONNUMBER\n",
    "\n",
    "The missing values correspond to cases where there isn't a previous accession number. We can set the NaN values to \"Not Applicable\" instead."
   ]
  },
  {
   "cell_type": "code",
   "execution_count": 20,
   "metadata": {},
   "outputs": [],
   "source": [
    "df.PREVIOUSACCESSIONNUMBER = df.PREVIOUSACCESSIONNUMBER.\\\n",
    "    fillna(\"Not Applicable\")"
   ]
  },
  {
   "cell_type": "markdown",
   "metadata": {},
   "source": [
    "6 and 7. SALE_DATE and YETTOOCCUR"
   ]
  },
  {
   "cell_type": "markdown",
   "metadata": {},
   "source": [
    "Here, it seems like NaN for YETTOOCCUR represent the value False. So, we replace the NaNs with False. \n",
    "\n",
    "We also observe that the missing values are complementary: for cases when YETTOOCCUR is True, there is no associated SALE_DATE, as expected. However, fixing this is tricky: SALE_DATE is of type datetime. So, we leave the NaN values as-is."
   ]
  },
  {
   "cell_type": "code",
   "execution_count": 23,
   "metadata": {},
   "outputs": [],
   "source": [
    "df.YETTOOCCUR = df.YETTOOCCUR.fillna(False)"
   ]
  },
  {
   "cell_type": "markdown",
   "metadata": {},
   "source": [
    "8 to 16. ISEQUITYTYPE, ISDEBTTYPE, ISOPTIONTOACQUIRETYPE, ISSECURITYTOBEACQUIREDTYPE, ISPOOLEDINVESTMENTFUNDTYPE, ISTENANTINCOMMONTYPE, ISMINERALPROPERTYTYPE, ISOTHERTYPE, and DESCRIPTIONOFOTHERTYPE"
   ]
  },
  {
   "cell_type": "markdown",
   "metadata": {},
   "source": [
    "For the first 8 variables, we see that the missing values correspond to a value of False instead, i.e., when the security is not the relevant type. We can fix this by filling in False."
   ]
  },
  {
   "cell_type": "code",
   "execution_count": 25,
   "metadata": {},
   "outputs": [],
   "source": [
    "df.ISEQUITYTYPE = df.ISEQUITYTYPE.fillna(False)\n",
    "df.ISDEBTTYPE = df.ISDEBTTYPE.fillna(False)\n",
    "df.ISOPTIONTOACQUIRETYPE = df.ISOPTIONTOACQUIRETYPE.fillna(False)\n",
    "df.ISSECURITYTOBEACQUIREDTYPE = df.ISSECURITYTOBEACQUIREDTYPE.fillna(False)\n",
    "df.ISPOOLEDINVESTMENTFUNDTYPE = df.ISPOOLEDINVESTMENTFUNDTYPE.fillna(False)\n",
    "df.ISTENANTINCOMMONTYPE = df.ISTENANTINCOMMONTYPE.fillna(False)\n",
    "df.ISMINERALPROPERTYTYPE = df.ISMINERALPROPERTYTYPE.fillna(False)\n",
    "df.ISOTHERTYPE = df.ISOTHERTYPE.fillna(False)"
   ]
  },
  {
   "cell_type": "markdown",
   "metadata": {},
   "source": [
    "We also see that the description for \"other\" type is only NaN when the security is not of \"other\" type. So, we can fill in \"Not Applicable\" for the missing values."
   ]
  },
  {
   "cell_type": "code",
   "execution_count": 27,
   "metadata": {},
   "outputs": [],
   "source": [
    "df.DESCRIPTIONOFOTHERTYPE = df.DESCRIPTIONOFOTHERTYPE.\\\n",
    "    fillna('Not Applicable')"
   ]
  },
  {
   "cell_type": "markdown",
   "metadata": {},
   "source": [
    "17 to 20. BUSCOMBCLARIFICATIONOFRESP, SALESAMTCLARIFICATIONOFRESP, FINDERFEECLARIFICATIONOFRESP, and GROSSPROCEEDSUSED_CLAROFRESP\n",
    "\n",
    "All of these variables are NaN when there is no provided clarification response. As the clarification is optional, we can set the NaN values to \"Not Applicable\"."
   ]
  },
  {
   "cell_type": "code",
   "execution_count": 28,
   "metadata": {},
   "outputs": [],
   "source": [
    "df.BUSCOMBCLARIFICATIONOFRESP = df.BUSCOMBCLARIFICATIONOFRESP.\\\n",
    "    fillna(\"Not Applicable\")\n",
    "df.SALESAMTCLARIFICATIONOFRESP = df.SALESAMTCLARIFICATIONOFRESP.\\\n",
    "    fillna(\"Not Applicable\")\n",
    "df.FINDERFEECLARIFICATIONOFRESP = df.FINDERFEECLARIFICATIONOFRESP.\\\n",
    "    fillna(\"Not Applicable\")\n",
    "df.GROSSPROCEEDSUSED_CLAROFRESP = df.GROSSPROCEEDSUSED_CLAROFRESP.\\\n",
    "    fillna(\"Not Applicable\")"
   ]
  },
  {
   "cell_type": "markdown",
   "metadata": {},
   "source": [
    "21\\. OVER100RECIPIENTFLAG"
   ]
  },
  {
   "cell_type": "markdown",
   "metadata": {},
   "source": [
    "We see that all the rows have missing values for this variable. The cause here is ambigious: one possibility is that the variable is False for all the rows. Another possibility that the data from the form were not compiled – on the form, there is an option to identify additional recipients by attaching more pages, and it is possible that these pages were not counted while making the dataset.\n",
    "\n",
    "As having all rows as \"False\" doesn't add any value to any analysis, to be conservative, we drop this column to avoid falsely labelling rows that are potentially \"True\" as \"False\"."
   ]
  },
  {
   "cell_type": "code",
   "execution_count": 30,
   "metadata": {},
   "outputs": [],
   "source": [
    "df = df.drop(columns=['OVER100RECIPIENTFLAG'])"
   ]
  },
  {
   "cell_type": "markdown",
   "metadata": {},
   "source": [
    "22\\. NUMBERNONACCREDITEDINVESTORS\n",
    "\n",
    "As discussed earlier in the consistency check, we see that the NaN values remaining refer to values that are not known, as the number of investors could be either 0 or more. So, the NaNs represent \"missingness\" and should be left as such."
   ]
  },
  {
   "cell_type": "markdown",
   "metadata": {},
   "source": [
    "23 to 25. SALESCOMM_ISESTIMATE, FINDERSFEE_ISESTIMATE, and GROSSPROCEEDSUSED_ISESTIMATE"
   ]
  },
  {
   "cell_type": "markdown",
   "metadata": {},
   "source": [
    "Here, the missing values refer to cases where the value is False, meaning that the respective dollar values are exact and not an estimate. From the actual form, we observe that these variables are represented by checkboxes that are optional to fill, i.e., they are marked when True but left empty when False. We fix them by filling in False instead."
   ]
  },
  {
   "cell_type": "code",
   "execution_count": 32,
   "metadata": {},
   "outputs": [],
   "source": [
    "df.SALESCOMM_ISESTIMATE = df.SALESCOMM_ISESTIMATE.fillna(False)\n",
    "df.FINDERSFEE_ISESTIMATE = df.FINDERSFEE_ISESTIMATE.fillna(False)\n",
    "df.GROSSPROCEEDSUSED_ISESTIMATE = df.GROSSPROCEEDSUSED_ISESTIMATE.\\\n",
    "    fillna(False)"
   ]
  },
  {
   "cell_type": "markdown",
   "metadata": {},
   "source": [
    "26\\. AUTHORIZEDREPRESENTATIVE"
   ]
  },
  {
   "cell_type": "markdown",
   "metadata": {},
   "source": [
    "We note that there are missing values in addition to True and False. However, SEC guidelines say that all Forms D must be signed by an authorized representative. This makes the meaning of False and NaN values ambiguous, as the signature of an authorized representative is mandatory in the first place. So, we leave the NaN values as-is."
   ]
  },
  {
   "cell_type": "markdown",
   "metadata": {},
   "source": [
    "None of these columns seem to indicate why the value for AUTHORIZEDREPRESENTATIVE could be missing. So, we leave the NaN values as-is."
   ]
  },
  {
   "cell_type": "markdown",
   "metadata": {},
   "source": [
    "Next, we translate the variables to the appropriate format.\n",
    "\n",
    "First, we convert all the numeric values to the appropriate format. The columns *TOTALOFFERINGAMOUNT* and *TOTALREMAINING* contain some values marked 'Indefinite', which we replace with infinity. According to which data type is appropriate, some columns are converted to integers, and others to floats (when decimal points make sense, or if we have missing values)."
   ]
  },
  {
   "cell_type": "code",
   "execution_count": 35,
   "metadata": {},
   "outputs": [],
   "source": [
    "df.MINIMUMINVESTMENTACCEPTED = df.MINIMUMINVESTMENTACCEPTED.\\\n",
    "    astype('float64')\n",
    "df.TOTALOFFERINGAMOUNT = df.TOTALOFFERINGAMOUNT.\\\n",
    "    replace('Indefinite',np.inf).astype('float64')\n",
    "df.TOTALAMOUNTSOLD = df.TOTALAMOUNTSOLD.astype('float64')\n",
    "df.TOTALREMAINING = df.TOTALREMAINING.replace('Indefinite',\\\n",
    "    np.inf).astype('float64')\n",
    "df.NUMBERNONACCREDITEDINVESTORS = \\\n",
    "    df.NUMBERNONACCREDITEDINVESTORS.astype('float64')\n",
    "df.TOTALNUMBERALREADYINVESTED = df.TOTALNUMBERALREADYINVESTED\\\n",
    "    .astype('int64')\n",
    "df.SALESCOMM_DOLLARAMOUNT = df.SALESCOMM_DOLLARAMOUNT\\\n",
    "    .astype('float64')\n",
    "df.FINDERSFEE_DOLLARAMOUNT = df.FINDERSFEE_DOLLARAMOUNT\\\n",
    "    .astype('float64')\n",
    "df.GROSSPROCEEDSUSED_DOLLARAMOUNT = \\\n",
    "    df.GROSSPROCEEDSUSED_DOLLARAMOUNT.astype('float64')"
   ]
  },
  {
   "cell_type": "markdown",
   "metadata": {},
   "source": [
    "Next, we convert the variables that are categorical, and lack a natural ordering. For the special case of categorical variables where we only have True or False values (and no missing values), we can convert them to the type boolean."
   ]
  },
  {
   "cell_type": "code",
   "execution_count": 36,
   "metadata": {},
   "outputs": [],
   "source": [
    "df.ISAMENDMENT = df.ISAMENDMENT.astype(bool)\n",
    "df.YETTOOCCUR = df.YETTOOCCUR.astype(bool)\n",
    "df.MORETHANONEYEAR = df.MORETHANONEYEAR.astype(bool)\n",
    "df.ISEQUITYTYPE = df.ISEQUITYTYPE.astype(bool)\n",
    "df.ISDEBTTYPE = df.ISDEBTTYPE.astype(bool)\n",
    "df.ISOPTIONTOACQUIRETYPE = df.ISOPTIONTOACQUIRETYPE.astype(bool)\n",
    "df.ISSECURITYTOBEACQUIREDTYPE = df.ISSECURITYTOBEACQUIREDTYPE.astype(bool)\n",
    "df.ISPOOLEDINVESTMENTFUNDTYPE = df.ISPOOLEDINVESTMENTFUNDTYPE.astype(bool)\n",
    "df.ISTENANTINCOMMONTYPE = df.ISTENANTINCOMMONTYPE.astype(bool)\n",
    "df.ISMINERALPROPERTYTYPE = df.ISMINERALPROPERTYTYPE.astype(bool)\n",
    "df.ISOTHERTYPE = df.ISOTHERTYPE.astype(bool)\n",
    "df.ISBUSINESSCOMBINATIONTRANS = df.ISBUSINESSCOMBINATIONTRANS.astype(bool)\n",
    "df.HASNONACCREDITEDINVESTORS = df.HASNONACCREDITEDINVESTORS.astype(bool)\n",
    "df.SALESCOMM_ISESTIMATE = df.SALESCOMM_ISESTIMATE.astype(bool)\n",
    "df.FINDERSFEE_ISESTIMATE = df.FINDERSFEE_ISESTIMATE.astype(bool)\n",
    "df.GROSSPROCEEDSUSED_ISESTIMATE = df.GROSSPROCEEDSUSED_ISESTIMATE\\\n",
    "    .astype(bool)\n",
    "\n",
    "df.INDUSTRYGROUPTYPE = df.INDUSTRYGROUPTYPE.astype('category')\n",
    "df.INVESTMENTFUNDTYPE = df.INVESTMENTFUNDTYPE.astype('category')\n",
    "df.IS40ACT = df.IS40ACT.astype('category')\n",
    "df.REVENUERANGE = df.REVENUERANGE.astype('category')\n",
    "df.AGGREGATENETASSETVALUERANGE = df.AGGREGATENETASSETVALUERANGE\\\n",
    "    .astype('category')\n",
    "df.AUTHORIZEDREPRESENTATIVE = df.AUTHORIZEDREPRESENTATIVE.astype('category')"
   ]
  },
  {
   "cell_type": "markdown",
   "metadata": {},
   "source": [
    "Finally, we set SALE_DATE to type datetime."
   ]
  },
  {
   "cell_type": "code",
   "execution_count": 38,
   "metadata": {},
   "outputs": [],
   "source": [
    "df.SALE_DATE = df.SALE_DATE.astype('datetime64')"
   ]
  },
  {
   "cell_type": "markdown",
   "metadata": {},
   "source": [
    "# Analysis 1"
   ]
  },
  {
   "cell_type": "markdown",
   "metadata": {},
   "source": [
    "# Analysis 2"
   ]
  },
  {
   "cell_type": "markdown",
   "metadata": {},
   "source": [
    "# Analysis 3"
   ]
  },
  {
   "cell_type": "markdown",
   "metadata": {},
   "source": [
    "# Analysis 4"
   ]
  }
 ],
 "metadata": {
  "kernelspec": {
   "display_name": "Python 3.9.12 ('base')",
   "language": "python",
   "name": "python3"
  },
  "language_info": {
   "codemirror_mode": {
    "name": "ipython",
    "version": 3
   },
   "file_extension": ".py",
   "mimetype": "text/x-python",
   "name": "python",
   "nbconvert_exporter": "python",
   "pygments_lexer": "ipython3",
   "version": "3.9.12"
  },
  "orig_nbformat": 4,
  "vscode": {
   "interpreter": {
    "hash": "417f4c96b8a93166877ea833783777985ebd49905c42bc4a2c46f36438998e4c"
   }
  }
 },
 "nbformat": 4,
 "nbformat_minor": 2
}
