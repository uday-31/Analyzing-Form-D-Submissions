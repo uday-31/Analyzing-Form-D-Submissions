{
 "cells": [
  {
   "cell_type": "markdown",
   "metadata": {},
   "source": [
    "**Homework 1: Data Prospectus**\n",
    "\n",
    "Submitted by: Uday Sharma (udayshar)"
   ]
  },
  {
   "cell_type": "code",
   "execution_count": 2,
   "metadata": {},
   "outputs": [],
   "source": [
    "import pandas as pd\n",
    "import numpy as np\n",
    "import matplotlib.pyplot as plt\n",
    "import seaborn as sns\n",
    "import warnings; warnings.filterwarnings(\"ignore\")\n",
    "plt.style.use(\"seaborn\")"
   ]
  },
  {
   "cell_type": "code",
   "execution_count": 3,
   "metadata": {},
   "outputs": [],
   "source": [
    "df = pd.read_csv('OFFERING.tsv', sep='\\t')"
   ]
  },
  {
   "cell_type": "markdown",
   "metadata": {},
   "source": [
    "**List of Variables**\n",
    "\n",
    "| Number | Variable | Description | Type |\n",
    "| --- | --- | --- | --- \n",
    "| 1 | ACCESSIONNUMBER | This is the unique identifier for each row (company), and it corresponds to an EDGAR submission. It is alphanumeric with 20 characters, and of the format *xxxxxxxxxx-xx-xxxxxx*. | string |\n",
    "| 2 | INDUSTRYGROUPTYPE | This describes the type of industry the company is from. | category |\n",
    "| 3 | INVESTMENTFUNDTYPE | This describes the type of security offered by the company. | category |\n",
    "| 4 | IS40ACT | This is a flag variable to indicate whether the issuer is registered as an investment company under the Investment Company Act of 1940. | category |\n",
    "| 5 | REVENUERANGE | The dollar range for the revenue of the company, if disclosed. This is only applicable to companies that are not hedge or other pooled investment funds. | category |\n",
    "| 6 | AGGREGATENETASSETVALUERANGE | The dollar range for the aggregate net asset value for the company, if disclosed. This is only applicable to hedge and other pooled investment funds. | category |\n",
    "| 7 | FEDERALEXEMPTIONS_ITEMS_LIST | Lists the exemptions given to the company under the Securities Act. | category (multiple possible) |\n",
    "| 8 | ISAMENDMENT | Whether the listing is an amendment (as opposed to a new notice). | boolean |\n",
    "| 9 | PREVIOUSACCESSIONNUMBER | The previous accession number the company had, if any. | string |\n",
    "| 10 | SALE_DATE | The date the security was sold. | datetime |\n",
    "| 11 | YETTOOCCUR | Whether the sale is yet to occur.  | boolean |\n",
    "| 12 | MORETHANONEYEAR | Whether the duration of the offering is more than one year. | boolean |\n",
    "| 13 | ISEQUITYTYPE | Whether the offering is of the type equity. | boolean |\n",
    "| 14 | ISDEBTTYPE | Whether the offering is of the type debt. | boolean |\n",
    "| 15 | ISOPTIONTOACQUIRETYPE | Whether the offering is an option, warrant, or other right to acquire another security. | boolean |\n",
    "| 16 | ISSECURITYTOBEACQUIREDTYPE | Whether the offering is to be acquired upon exercise of option, warrant or other right to acquire security. | boolean |\n",
    "| 17 | ISPOOLEDINVESTMENTFUNDTYPE | Whether the offering is a pooled investment fund. | boolean |\n",
    "| 18 | ISTENTANTINCOMMONTYPE | Whether the offering is a tenant-in-common security. | boolean |\n",
    "| 19 | ISMINERALPROPERTYTYPE | Whether the offering is a mineral property security. | boolean |\n",
    "| 20 | ISOTHERTYPE | Whether the offering is of some other type. | boolean |\n",
    "| 21 | DESCRIPTIONOFOTHERTYPE | If the offering is of some other type, then its description. | string |\n",
    "| 22 | ISBUSINESSCOMBINATIONTRANS | Whether the offering was made in connection with a business combination transaction, like an M&A. | boolean |\n",
    "| 23 | BUSCOMBCLARIFICATIONOFRESP | The clarification of response provided, if any. | string |\n",
    "| 24 | MINIMUMINVESTMENTACCEPTED | Minimum investment accepted from an outside investor. | numeric |\n",
    "| 25 | OVER100RECIPIENTFLAG | Whether there are over 100 recipients for the offering. | boolean |\n",
    "| 26 | TOTALOFFERINGAMOUNT | Total amount that's being offered. | numeric |\n",
    "| 27 | TOTALAMOUNTSOLD | Total amount that was sold from the amount offered. | numeric |\n",
    "| 28 | TOTALREMAINING | Total amount remaining to be sold. | numeric |\n",
    "| 29 | SALESAMTCLARIFICATIONOFRESP | The clarification of response provided for the sales amount, if any. | string |\n",
    "| 30 | HASNONACCREDITEDINVESTORS | Whether the securities in the offering have been or may be sold to persons who do not qualify as accredited investors. | boolean |\n",
    "| 31 | NUMBERNONACCREDITEDINVESTORS | Number of such non-accredited investors, if any. | numeric |\n",
    "| 32 | TOTALNUMBERALREADYINVESTED | Total number of all investors that have invested in the offering, regardless of their accredited status.| numeric |\n",
    "| 33 | SALESCOMM_DOLLARAMOUNT | US dollar amount of sales commissions.| numeric |\n",
    "| 34 | SALESCOMM_ISESTIMATE | Whether the sales commission amount is an estimate.| boolean |\n",
    "| 35 | FINDERSFEE_DOLLARAMOUNT | The finders fee in USD.| numeric |\n",
    "| 36 | FINDERSFEE_ISESTIMATE | Whether the finders fee is an estimated value. | boolean |\n",
    "| 37 | FINDERFEECLARIFICATIONOFRESP | The clarification of response provided for the finders fee, if any. | string |\n",
    "| 38 | GROSSPROCEEDSUSED_DOLLARAMOUNT | The dollar amount of the gross proceeds of the offering used (or planned to be used) to make payments to promoters, executive officers or directors.| numeric |\n",
    "| 39 | GROSSPROCEEDSUSED_ISESTIMATE | Whether the dollar amount for the gross proceeds above is an estimate.| boolean |\n",
    "| 40 | GROSSPROCEEDSUSED_CLAROFRESP | The clarification of response provided for the above gross proceeds, if any.| string |\n",
    "| 41 | AUTHORIZEDREPRESENTATIVE | Whether the entity signing the form is a duly autorized representative of the issuer.| category |"
   ]
  },
  {
   "cell_type": "markdown",
   "metadata": {},
   "source": [
    "**Consistency Checks**"
   ]
  },
  {
   "cell_type": "markdown",
   "metadata": {},
   "source": [
    "1\\. If an offering doesn't have any non-accredited investors, either those who have already invested or those who may invest, i.e., HASNONACCREDITEDINVESTORS is False, then the field NUMBERNONACCREDITEDINVESTORS must be 0.\n",
    "\n",
    "Note that the converse doesn't necessarily have to be true, since HASNONACCREDITEDINVESTORS considers investors whom the security may be sold to at some point in the future, even if the transaction hasn't occurred yet. However, the field NUMBERNONACCREDITEDINVESTORS only includes those non-accredited investors who have already invested. So, if NUMBERNONACCREDITEDINVESTORS is 0, it *doesn't always* imply that HASNONACCREDITEDINVESTORS must be False."
   ]
  },
  {
   "cell_type": "markdown",
   "metadata": {},
   "source": [
    "We find a lack of internal consistency here. The same value of NaN does not mean the same thing within the variable NUMBERNONACCREDITEDINVESTORS: if we know that HASNONACCREDITEDINVESTORS is False, then NUMBERNONACCREDITEDINVESTORS must be 0. So, in this case, the NaNs refer to a value of 0. However, when HASNONACCREDITEDINVESTORS is True, an NaN value for NUMBERNONACCREDITEDINVESTORS means that we *do not know* how many non-accredited investors have invested yet, since we also observe values of 0.\n",
    "\n",
    "To fix this, for cases when HASNONACCREDITEDINVESTORS is False, we fill in zeros for the NaN values in NUMBERNONACCREDITEDINVESTORS."
   ]
  },
  {
   "cell_type": "code",
   "execution_count": 8,
   "metadata": {},
   "outputs": [],
   "source": [
    "df.loc[df.HASNONACCREDITEDINVESTORS == False,'NUMBERNONACCREDITEDINVESTORS']\\\n",
    "     =df[df.HASNONACCREDITEDINVESTORS == False].\\\n",
    "        NUMBERNONACCREDITEDINVESTORS.fillna(0)"
   ]
  },
  {
   "cell_type": "markdown",
   "metadata": {},
   "source": [
    "2\\. The total number of investors that have already invested must be greater than or equal to the number of non-accredited investors that have already invested, i.e., TOTALNUMBERALREADYINVESTED >= NUMBERNONACCREDITEDINVESTORS. We see if there are any rows that do not satisfy this condition."
   ]
  },
  {
   "cell_type": "markdown",
   "metadata": {},
   "source": [
    "There doesn't seem to be any particular pattern that could have caused this, since these columns do not indicate any information that could have led to the anomaly. However, at the very least, to make the data \"less incorrect\", we can replace TOTALNUMBERALREADYINVESTED in this case with the NUMBERNONACCREDITEDINVESTORS, as that is the minimum value for the total count."
   ]
  },
  {
   "cell_type": "code",
   "execution_count": 11,
   "metadata": {},
   "outputs": [],
   "source": [
    "df.loc[df.TOTALNUMBERALREADYINVESTED < df.NUMBERNONACCREDITEDINVESTORS,\\\n",
    "     'TOTALNUMBERALREADYINVESTED'] = \\\n",
    "     df.loc[df.TOTALNUMBERALREADYINVESTED < \\\n",
    "        df.NUMBERNONACCREDITEDINVESTORS, 'NUMBERNONACCREDITEDINVESTORS']"
   ]
  },
  {
   "cell_type": "markdown",
   "metadata": {},
   "source": [
    "**Missing Data**"
   ]
  },
  {
   "cell_type": "markdown",
   "metadata": {},
   "source": [
    "The following columns do not have any missing data:\n",
    "\n",
    "- ACCESSIONNUMBER\n",
    "- INDUSTRYGROUPTYPE\n",
    "- FEDERALEXEMPTIONS_ITEMS_LIST\n",
    "- ISAMENDMENT\n",
    "- MORETHANONEYEAR\n",
    "- ISBUSINESSCOMBINATIONTRANS\n",
    "- MINIMUMINVESTMENTACCEPTED\n",
    "- TOTALOFFERINGAMOUNT\n",
    "- TOTALAMOUNTSOLD\n",
    "- TOTALREMAINING\n",
    "- HASNONACCREDITEDINVESTORS\n",
    "- TOTALNUMBERALREADYINVESTED\n",
    "- SALESCOMM_DOLLARAMOUNT\n",
    "- FINDERSFEE_DOLLARAMOUNT\n",
    "- GROSSPROCEEDSUSED_DOLLARAMOUNT"
   ]
  },
  {
   "cell_type": "markdown",
   "metadata": {},
   "source": [
    "Now, we look at the columns that do have missing values. In tackling these missing values, we use the following philosophy: we make a distinction between not knowing something versus knowing that something is not applicable. NaNs should represent \"lack of data\", or cases where the actual value is unknown. If something is not applicable, then we fill it in with \"Not Applicable\" instead, since the fact that something is not applicable is additional information in itself, and should be included in the analysis.\n",
    "\n",
    "1\\. IS40ACT"
   ]
  },
  {
   "cell_type": "code",
   "execution_count": 13,
   "metadata": {},
   "outputs": [
    {
     "data": {
      "text/plain": [
       "False    8226\n",
       "NaN      5932\n",
       "True       29\n",
       "Name: IS40ACT, dtype: int64"
      ]
     },
     "execution_count": 13,
     "metadata": {},
     "output_type": "execute_result"
    }
   ],
   "source": [
    "df.IS40ACT.fillna('NaN').value_counts()"
   ]
  },
  {
   "cell_type": "markdown",
   "metadata": {},
   "source": [
    "We see that in addition to True and False values, there are also NaN values. We can distinguish between the NaNs and False values after looking at the actual Form D: the True and False values are only applicable to firms that come under the \"Other Investment Fund\" subsubcategory in \"Banking and Financial Services\" -> \"Pooled Investment Fund\". \n",
    "\n",
    "Hence, it is a better idea to change this variable from boolean to categorical, and have \"Not Applicable\" as the third category."
   ]
  },
  {
   "cell_type": "code",
   "execution_count": 14,
   "metadata": {},
   "outputs": [],
   "source": [
    "df.IS40ACT = df.IS40ACT.fillna('Not Applicable')"
   ]
  },
  {
   "cell_type": "markdown",
   "metadata": {},
   "source": [
    "2\\. INVESTMENTFUNDTYPE"
   ]
  },
  {
   "cell_type": "code",
   "execution_count": 15,
   "metadata": {},
   "outputs": [
    {
     "data": {
      "text/html": [
       "<div>\n",
       "<style scoped>\n",
       "    .dataframe tbody tr th:only-of-type {\n",
       "        vertical-align: middle;\n",
       "    }\n",
       "\n",
       "    .dataframe tbody tr th {\n",
       "        vertical-align: top;\n",
       "    }\n",
       "\n",
       "    .dataframe thead th {\n",
       "        text-align: right;\n",
       "    }\n",
       "</style>\n",
       "<table border=\"1\" class=\"dataframe\">\n",
       "  <thead>\n",
       "    <tr style=\"text-align: right;\">\n",
       "      <th></th>\n",
       "      <th>ACCESSIONNUMBER</th>\n",
       "      <th>INDUSTRYGROUPTYPE</th>\n",
       "      <th>INVESTMENTFUNDTYPE</th>\n",
       "      <th>IS40ACT</th>\n",
       "      <th>REVENUERANGE</th>\n",
       "      <th>AGGREGATENETASSETVALUERANGE</th>\n",
       "      <th>FEDERALEXEMPTIONS_ITEMS_LIST</th>\n",
       "      <th>ISAMENDMENT</th>\n",
       "      <th>PREVIOUSACCESSIONNUMBER</th>\n",
       "      <th>SALE_DATE</th>\n",
       "      <th>...</th>\n",
       "      <th>TOTALNUMBERALREADYINVESTED</th>\n",
       "      <th>SALESCOMM_DOLLARAMOUNT</th>\n",
       "      <th>SALESCOMM_ISESTIMATE</th>\n",
       "      <th>FINDERSFEE_DOLLARAMOUNT</th>\n",
       "      <th>FINDERSFEE_ISESTIMATE</th>\n",
       "      <th>FINDERFEECLARIFICATIONOFRESP</th>\n",
       "      <th>GROSSPROCEEDSUSED_DOLLARAMOUNT</th>\n",
       "      <th>GROSSPROCEEDSUSED_ISESTIMATE</th>\n",
       "      <th>GROSSPROCEEDSUSED_CLAROFRESP</th>\n",
       "      <th>AUTHORIZEDREPRESENTATIVE</th>\n",
       "    </tr>\n",
       "  </thead>\n",
       "  <tbody>\n",
       "    <tr>\n",
       "      <th>4</th>\n",
       "      <td>0001948612-22-000001</td>\n",
       "      <td>Other Technology</td>\n",
       "      <td>NaN</td>\n",
       "      <td>Not Applicable</td>\n",
       "      <td>No Revenues</td>\n",
       "      <td>NaN</td>\n",
       "      <td>06b</td>\n",
       "      <td>False</td>\n",
       "      <td>NaN</td>\n",
       "      <td>NaN</td>\n",
       "      <td>...</td>\n",
       "      <td>0</td>\n",
       "      <td>0</td>\n",
       "      <td>NaN</td>\n",
       "      <td>0</td>\n",
       "      <td>NaN</td>\n",
       "      <td>NaN</td>\n",
       "      <td>0</td>\n",
       "      <td>NaN</td>\n",
       "      <td>NaN</td>\n",
       "      <td>False</td>\n",
       "    </tr>\n",
       "    <tr>\n",
       "      <th>7</th>\n",
       "      <td>0001949037-22-000002</td>\n",
       "      <td>Other Technology</td>\n",
       "      <td>NaN</td>\n",
       "      <td>Not Applicable</td>\n",
       "      <td>No Revenues</td>\n",
       "      <td>NaN</td>\n",
       "      <td>06c</td>\n",
       "      <td>False</td>\n",
       "      <td>NaN</td>\n",
       "      <td>2022-09-05</td>\n",
       "      <td>...</td>\n",
       "      <td>8</td>\n",
       "      <td>0</td>\n",
       "      <td>NaN</td>\n",
       "      <td>0</td>\n",
       "      <td>NaN</td>\n",
       "      <td>NaN</td>\n",
       "      <td>0</td>\n",
       "      <td>NaN</td>\n",
       "      <td>NaN</td>\n",
       "      <td>False</td>\n",
       "    </tr>\n",
       "    <tr>\n",
       "      <th>8</th>\n",
       "      <td>0001948952-22-000001</td>\n",
       "      <td>Other Technology</td>\n",
       "      <td>NaN</td>\n",
       "      <td>Not Applicable</td>\n",
       "      <td>Decline to Disclose</td>\n",
       "      <td>NaN</td>\n",
       "      <td>06b</td>\n",
       "      <td>False</td>\n",
       "      <td>NaN</td>\n",
       "      <td>2022-09-15</td>\n",
       "      <td>...</td>\n",
       "      <td>20</td>\n",
       "      <td>0</td>\n",
       "      <td>NaN</td>\n",
       "      <td>0</td>\n",
       "      <td>NaN</td>\n",
       "      <td>NaN</td>\n",
       "      <td>0</td>\n",
       "      <td>NaN</td>\n",
       "      <td>NaN</td>\n",
       "      <td>False</td>\n",
       "    </tr>\n",
       "    <tr>\n",
       "      <th>13</th>\n",
       "      <td>0001946549-22-000002</td>\n",
       "      <td>Other</td>\n",
       "      <td>NaN</td>\n",
       "      <td>Not Applicable</td>\n",
       "      <td>Decline to Disclose</td>\n",
       "      <td>NaN</td>\n",
       "      <td>06b</td>\n",
       "      <td>False</td>\n",
       "      <td>NaN</td>\n",
       "      <td>2022-09-22</td>\n",
       "      <td>...</td>\n",
       "      <td>16</td>\n",
       "      <td>0</td>\n",
       "      <td>NaN</td>\n",
       "      <td>0</td>\n",
       "      <td>NaN</td>\n",
       "      <td>NaN</td>\n",
       "      <td>0</td>\n",
       "      <td>True</td>\n",
       "      <td>NaN</td>\n",
       "      <td>False</td>\n",
       "    </tr>\n",
       "    <tr>\n",
       "      <th>18</th>\n",
       "      <td>0001949065-22-000002</td>\n",
       "      <td>Other Technology</td>\n",
       "      <td>NaN</td>\n",
       "      <td>Not Applicable</td>\n",
       "      <td>Decline to Disclose</td>\n",
       "      <td>NaN</td>\n",
       "      <td>06c</td>\n",
       "      <td>False</td>\n",
       "      <td>NaN</td>\n",
       "      <td>2022-09-19</td>\n",
       "      <td>...</td>\n",
       "      <td>6</td>\n",
       "      <td>0</td>\n",
       "      <td>NaN</td>\n",
       "      <td>0</td>\n",
       "      <td>NaN</td>\n",
       "      <td>NaN</td>\n",
       "      <td>0</td>\n",
       "      <td>NaN</td>\n",
       "      <td>NaN</td>\n",
       "      <td>False</td>\n",
       "    </tr>\n",
       "    <tr>\n",
       "      <th>...</th>\n",
       "      <td>...</td>\n",
       "      <td>...</td>\n",
       "      <td>...</td>\n",
       "      <td>...</td>\n",
       "      <td>...</td>\n",
       "      <td>...</td>\n",
       "      <td>...</td>\n",
       "      <td>...</td>\n",
       "      <td>...</td>\n",
       "      <td>...</td>\n",
       "      <td>...</td>\n",
       "      <td>...</td>\n",
       "      <td>...</td>\n",
       "      <td>...</td>\n",
       "      <td>...</td>\n",
       "      <td>...</td>\n",
       "      <td>...</td>\n",
       "      <td>...</td>\n",
       "      <td>...</td>\n",
       "      <td>...</td>\n",
       "      <td>...</td>\n",
       "    </tr>\n",
       "    <tr>\n",
       "      <th>14169</th>\n",
       "      <td>0001626408-22-000001</td>\n",
       "      <td>Other</td>\n",
       "      <td>NaN</td>\n",
       "      <td>Not Applicable</td>\n",
       "      <td>Decline to Disclose</td>\n",
       "      <td>NaN</td>\n",
       "      <td>06b</td>\n",
       "      <td>True</td>\n",
       "      <td>0001626408-20-000001</td>\n",
       "      <td>2020-06-08</td>\n",
       "      <td>...</td>\n",
       "      <td>37</td>\n",
       "      <td>0</td>\n",
       "      <td>NaN</td>\n",
       "      <td>0</td>\n",
       "      <td>NaN</td>\n",
       "      <td>NaN</td>\n",
       "      <td>0</td>\n",
       "      <td>NaN</td>\n",
       "      <td>NaN</td>\n",
       "      <td>False</td>\n",
       "    </tr>\n",
       "    <tr>\n",
       "      <th>14177</th>\n",
       "      <td>0001876459-22-000004</td>\n",
       "      <td>Other</td>\n",
       "      <td>NaN</td>\n",
       "      <td>Not Applicable</td>\n",
       "      <td>$1 - $1,000,000</td>\n",
       "      <td>NaN</td>\n",
       "      <td>06b</td>\n",
       "      <td>False</td>\n",
       "      <td>NaN</td>\n",
       "      <td>2022-06-15</td>\n",
       "      <td>...</td>\n",
       "      <td>1</td>\n",
       "      <td>0</td>\n",
       "      <td>NaN</td>\n",
       "      <td>0</td>\n",
       "      <td>NaN</td>\n",
       "      <td>NaN</td>\n",
       "      <td>0</td>\n",
       "      <td>NaN</td>\n",
       "      <td>NaN</td>\n",
       "      <td>False</td>\n",
       "    </tr>\n",
       "    <tr>\n",
       "      <th>14180</th>\n",
       "      <td>0001812620-22-000002</td>\n",
       "      <td>Other</td>\n",
       "      <td>NaN</td>\n",
       "      <td>Not Applicable</td>\n",
       "      <td>Decline to Disclose</td>\n",
       "      <td>NaN</td>\n",
       "      <td>06b</td>\n",
       "      <td>False</td>\n",
       "      <td>NaN</td>\n",
       "      <td>2022-06-15</td>\n",
       "      <td>...</td>\n",
       "      <td>12</td>\n",
       "      <td>0</td>\n",
       "      <td>NaN</td>\n",
       "      <td>0</td>\n",
       "      <td>NaN</td>\n",
       "      <td>NaN</td>\n",
       "      <td>0</td>\n",
       "      <td>NaN</td>\n",
       "      <td>NaN</td>\n",
       "      <td>False</td>\n",
       "    </tr>\n",
       "    <tr>\n",
       "      <th>14181</th>\n",
       "      <td>0001936135-22-000001</td>\n",
       "      <td>Residential</td>\n",
       "      <td>NaN</td>\n",
       "      <td>Not Applicable</td>\n",
       "      <td>Decline to Disclose</td>\n",
       "      <td>NaN</td>\n",
       "      <td>06b</td>\n",
       "      <td>False</td>\n",
       "      <td>NaN</td>\n",
       "      <td>2022-06-29</td>\n",
       "      <td>...</td>\n",
       "      <td>43</td>\n",
       "      <td>0</td>\n",
       "      <td>NaN</td>\n",
       "      <td>0</td>\n",
       "      <td>NaN</td>\n",
       "      <td>NaN</td>\n",
       "      <td>492000</td>\n",
       "      <td>NaN</td>\n",
       "      <td>The Managers shall earn an acquisition due dil...</td>\n",
       "      <td>False</td>\n",
       "    </tr>\n",
       "    <tr>\n",
       "      <th>14183</th>\n",
       "      <td>0001903651-22-000003</td>\n",
       "      <td>Other</td>\n",
       "      <td>NaN</td>\n",
       "      <td>Not Applicable</td>\n",
       "      <td>Decline to Disclose</td>\n",
       "      <td>NaN</td>\n",
       "      <td>06b</td>\n",
       "      <td>False</td>\n",
       "      <td>NaN</td>\n",
       "      <td>2022-06-16</td>\n",
       "      <td>...</td>\n",
       "      <td>7</td>\n",
       "      <td>0</td>\n",
       "      <td>NaN</td>\n",
       "      <td>0</td>\n",
       "      <td>NaN</td>\n",
       "      <td>NaN</td>\n",
       "      <td>0</td>\n",
       "      <td>NaN</td>\n",
       "      <td>NaN</td>\n",
       "      <td>False</td>\n",
       "    </tr>\n",
       "  </tbody>\n",
       "</table>\n",
       "<p>5932 rows × 41 columns</p>\n",
       "</div>"
      ],
      "text/plain": [
       "            ACCESSIONNUMBER INDUSTRYGROUPTYPE INVESTMENTFUNDTYPE  \\\n",
       "4      0001948612-22-000001  Other Technology                NaN   \n",
       "7      0001949037-22-000002  Other Technology                NaN   \n",
       "8      0001948952-22-000001  Other Technology                NaN   \n",
       "13     0001946549-22-000002             Other                NaN   \n",
       "18     0001949065-22-000002  Other Technology                NaN   \n",
       "...                     ...               ...                ...   \n",
       "14169  0001626408-22-000001             Other                NaN   \n",
       "14177  0001876459-22-000004             Other                NaN   \n",
       "14180  0001812620-22-000002             Other                NaN   \n",
       "14181  0001936135-22-000001       Residential                NaN   \n",
       "14183  0001903651-22-000003             Other                NaN   \n",
       "\n",
       "              IS40ACT         REVENUERANGE AGGREGATENETASSETVALUERANGE  \\\n",
       "4      Not Applicable          No Revenues                         NaN   \n",
       "7      Not Applicable          No Revenues                         NaN   \n",
       "8      Not Applicable  Decline to Disclose                         NaN   \n",
       "13     Not Applicable  Decline to Disclose                         NaN   \n",
       "18     Not Applicable  Decline to Disclose                         NaN   \n",
       "...               ...                  ...                         ...   \n",
       "14169  Not Applicable  Decline to Disclose                         NaN   \n",
       "14177  Not Applicable      $1 - $1,000,000                         NaN   \n",
       "14180  Not Applicable  Decline to Disclose                         NaN   \n",
       "14181  Not Applicable  Decline to Disclose                         NaN   \n",
       "14183  Not Applicable  Decline to Disclose                         NaN   \n",
       "\n",
       "      FEDERALEXEMPTIONS_ITEMS_LIST  ISAMENDMENT PREVIOUSACCESSIONNUMBER  \\\n",
       "4                              06b        False                     NaN   \n",
       "7                              06c        False                     NaN   \n",
       "8                              06b        False                     NaN   \n",
       "13                             06b        False                     NaN   \n",
       "18                             06c        False                     NaN   \n",
       "...                            ...          ...                     ...   \n",
       "14169                          06b         True    0001626408-20-000001   \n",
       "14177                          06b        False                     NaN   \n",
       "14180                          06b        False                     NaN   \n",
       "14181                          06b        False                     NaN   \n",
       "14183                          06b        False                     NaN   \n",
       "\n",
       "        SALE_DATE  ... TOTALNUMBERALREADYINVESTED  SALESCOMM_DOLLARAMOUNT  \\\n",
       "4             NaN  ...                          0                       0   \n",
       "7      2022-09-05  ...                          8                       0   \n",
       "8      2022-09-15  ...                         20                       0   \n",
       "13     2022-09-22  ...                         16                       0   \n",
       "18     2022-09-19  ...                          6                       0   \n",
       "...           ...  ...                        ...                     ...   \n",
       "14169  2020-06-08  ...                         37                       0   \n",
       "14177  2022-06-15  ...                          1                       0   \n",
       "14180  2022-06-15  ...                         12                       0   \n",
       "14181  2022-06-29  ...                         43                       0   \n",
       "14183  2022-06-16  ...                          7                       0   \n",
       "\n",
       "      SALESCOMM_ISESTIMATE FINDERSFEE_DOLLARAMOUNT FINDERSFEE_ISESTIMATE  \\\n",
       "4                      NaN                       0                   NaN   \n",
       "7                      NaN                       0                   NaN   \n",
       "8                      NaN                       0                   NaN   \n",
       "13                     NaN                       0                   NaN   \n",
       "18                     NaN                       0                   NaN   \n",
       "...                    ...                     ...                   ...   \n",
       "14169                  NaN                       0                   NaN   \n",
       "14177                  NaN                       0                   NaN   \n",
       "14180                  NaN                       0                   NaN   \n",
       "14181                  NaN                       0                   NaN   \n",
       "14183                  NaN                       0                   NaN   \n",
       "\n",
       "      FINDERFEECLARIFICATIONOFRESP GROSSPROCEEDSUSED_DOLLARAMOUNT  \\\n",
       "4                              NaN                              0   \n",
       "7                              NaN                              0   \n",
       "8                              NaN                              0   \n",
       "13                             NaN                              0   \n",
       "18                             NaN                              0   \n",
       "...                            ...                            ...   \n",
       "14169                          NaN                              0   \n",
       "14177                          NaN                              0   \n",
       "14180                          NaN                              0   \n",
       "14181                          NaN                         492000   \n",
       "14183                          NaN                              0   \n",
       "\n",
       "      GROSSPROCEEDSUSED_ISESTIMATE  \\\n",
       "4                              NaN   \n",
       "7                              NaN   \n",
       "8                              NaN   \n",
       "13                            True   \n",
       "18                             NaN   \n",
       "...                            ...   \n",
       "14169                          NaN   \n",
       "14177                          NaN   \n",
       "14180                          NaN   \n",
       "14181                          NaN   \n",
       "14183                          NaN   \n",
       "\n",
       "                            GROSSPROCEEDSUSED_CLAROFRESP  \\\n",
       "4                                                    NaN   \n",
       "7                                                    NaN   \n",
       "8                                                    NaN   \n",
       "13                                                   NaN   \n",
       "18                                                   NaN   \n",
       "...                                                  ...   \n",
       "14169                                                NaN   \n",
       "14177                                                NaN   \n",
       "14180                                                NaN   \n",
       "14181  The Managers shall earn an acquisition due dil...   \n",
       "14183                                                NaN   \n",
       "\n",
       "      AUTHORIZEDREPRESENTATIVE  \n",
       "4                        False  \n",
       "7                        False  \n",
       "8                        False  \n",
       "13                       False  \n",
       "18                       False  \n",
       "...                        ...  \n",
       "14169                    False  \n",
       "14177                    False  \n",
       "14180                    False  \n",
       "14181                    False  \n",
       "14183                    False  \n",
       "\n",
       "[5932 rows x 41 columns]"
      ]
     },
     "execution_count": 15,
     "metadata": {},
     "output_type": "execute_result"
    }
   ],
   "source": [
    "df[df.INVESTMENTFUNDTYPE.isna()]"
   ]
  },
  {
   "cell_type": "code",
   "execution_count": 16,
   "metadata": {},
   "outputs": [
    {
     "data": {
      "text/plain": [
       "(Not Applicable    5932\n",
       " Name: IS40ACT, dtype: int64,\n",
       " False             8226\n",
       " Not Applicable    5932\n",
       " True                29\n",
       " Name: IS40ACT, dtype: int64)"
      ]
     },
     "execution_count": 16,
     "metadata": {},
     "output_type": "execute_result"
    }
   ],
   "source": [
    "df[df.INVESTMENTFUNDTYPE.isna()].IS40ACT.value_counts(), \\\n",
    "    df.IS40ACT.value_counts()"
   ]
  },
  {
   "cell_type": "markdown",
   "metadata": {},
   "source": [
    "There are around 5932 rows with missing values. On further inspection, we see that all of these missing values correspond to rows where the Investment Company Act of 1940 is not applicable. This makes sense since these companies are not Investment Funds in the first place, and hence cannot have a type.\n",
    "\n",
    "To fix this, we replace the NaN values with another category: \"Not Applicable\"."
   ]
  },
  {
   "cell_type": "code",
   "execution_count": 17,
   "metadata": {},
   "outputs": [],
   "source": [
    "df.INVESTMENTFUNDTYPE = df.INVESTMENTFUNDTYPE.fillna(\"Not Applicable\")"
   ]
  },
  {
   "cell_type": "markdown",
   "metadata": {},
   "source": [
    "3 and 4. REVENUERANGE and AGGREGATENETASSETVALUERANGE"
   ]
  },
  {
   "cell_type": "code",
   "execution_count": 18,
   "metadata": {},
   "outputs": [
    {
     "data": {
      "text/plain": [
       "14187"
      ]
     },
     "execution_count": 18,
     "metadata": {},
     "output_type": "execute_result"
    }
   ],
   "source": [
    "df.REVENUERANGE.isna().sum()+df.AGGREGATENETASSETVALUERANGE.isna().sum()"
   ]
  },
  {
   "cell_type": "markdown",
   "metadata": {},
   "source": [
    "We observe that the sum of the number of missing values in the two columns is equal to the total number of rows we have. Looking at Form D, we see that REVENUERANGE is not applicable to firms that are \"hedge\" or \"other investment\" funds, and AGGREGATENETASSETVALUERANGE is not applicable to all the other firms.\n",
    "\n",
    "To fix this, we set the missing values to the category \"Not Applicable\" instead."
   ]
  },
  {
   "cell_type": "code",
   "execution_count": 19,
   "metadata": {},
   "outputs": [],
   "source": [
    "df.REVENUERANGE = df.REVENUERANGE.fillna(\"Not Applicable\")\n",
    "df.AGGREGATENETASSETVALUERANGE = df.AGGREGATENETASSETVALUERANGE.\\\n",
    "    fillna(\"Not Applicable\")"
   ]
  },
  {
   "cell_type": "markdown",
   "metadata": {},
   "source": [
    "5\\. PREVIOUSACCESSIONNUMBER\n",
    "\n",
    "The missing values correspond to cases where there isn't a previous accession number. We can set the NaN values to \"Not Applicable\" instead."
   ]
  },
  {
   "cell_type": "code",
   "execution_count": 20,
   "metadata": {},
   "outputs": [],
   "source": [
    "df.PREVIOUSACCESSIONNUMBER = df.PREVIOUSACCESSIONNUMBER.\\\n",
    "    fillna(\"Not Applicable\")"
   ]
  },
  {
   "cell_type": "markdown",
   "metadata": {},
   "source": [
    "6 and 7. SALE_DATE and YETTOOCCUR"
   ]
  },
  {
   "cell_type": "code",
   "execution_count": 21,
   "metadata": {},
   "outputs": [
    {
     "data": {
      "text/plain": [
       "14187"
      ]
     },
     "execution_count": 21,
     "metadata": {},
     "output_type": "execute_result"
    }
   ],
   "source": [
    "df.SALE_DATE.isna().sum()+df.YETTOOCCUR.isna().sum()"
   ]
  },
  {
   "cell_type": "code",
   "execution_count": 22,
   "metadata": {},
   "outputs": [
    {
     "data": {
      "text/plain": [
       "NaN     11837\n",
       "True     2350\n",
       "Name: YETTOOCCUR, dtype: int64"
      ]
     },
     "execution_count": 22,
     "metadata": {},
     "output_type": "execute_result"
    }
   ],
   "source": [
    "df.YETTOOCCUR.fillna(\"NaN\").value_counts()"
   ]
  },
  {
   "cell_type": "markdown",
   "metadata": {},
   "source": [
    "Here, it seems like NaN for YETTOOCCUR represent the value False. So, we replace the NaNs with False. \n",
    "\n",
    "We also observe that the missing values are complementary: for cases when YETTOOCCUR is True, there is no associated SALE_DATE, as expected. However, fixing this is tricky: SALE_DATE is of type datetime. We should not leave values as NaN as we know the pattern, but we cannot fill in \"Not Applicable\" given the datatype constraint. Hence, we fill in the date \"2099-12-31\" instead. For any analysis on this data set, we can consider taking the product of the variables SALE_DATE and the complement of YETTOOCCUR, so that the SALE_DATE for transactions yet to occur is mulitplied by 0."
   ]
  },
  {
   "cell_type": "code",
   "execution_count": 23,
   "metadata": {},
   "outputs": [],
   "source": [
    "df.YETTOOCCUR = df.YETTOOCCUR.fillna(False)\n",
    "df.SALE_DATE = df.SALE_DATE.fillna(\"2099-12-31\")"
   ]
  },
  {
   "cell_type": "markdown",
   "metadata": {},
   "source": [
    "8 to 16. ISEQUITYTYPE, ISDEBTTYPE, ISOPTIONTOACQUIRETYPE, ISSECURITYTOBEACQUIREDTYPE, ISPOOLEDINVESTMENTFUNDTYPE, ISTENANTINCOMMONTYPE, ISMINERALPROPERTYTYPE, ISOTHERTYPE, and DESCRIPTIONOFOTHERTYPE"
   ]
  },
  {
   "cell_type": "code",
   "execution_count": 24,
   "metadata": {},
   "outputs": [
    {
     "data": {
      "text/plain": [
       "(array([True, nan], dtype=object),\n",
       " array([nan, True], dtype=object),\n",
       " array([nan, True], dtype=object),\n",
       " array([nan, True], dtype=object),\n",
       " array([True, nan], dtype=object),\n",
       " array([nan, True], dtype=object),\n",
       " array([nan, True], dtype=object),\n",
       " array([nan, True], dtype=object))"
      ]
     },
     "execution_count": 24,
     "metadata": {},
     "output_type": "execute_result"
    }
   ],
   "source": [
    "df.ISEQUITYTYPE.unique(), df.ISDEBTTYPE.unique(), df.ISOPTIONTOACQUIRETYPE\\\n",
    "    .unique(), df.ISSECURITYTOBEACQUIREDTYPE.unique(), \\\n",
    "    df.ISPOOLEDINVESTMENTFUNDTYPE.unique(), \\\n",
    "    df.ISTENANTINCOMMONTYPE.unique(), df.ISMINERALPROPERTYTYPE.unique(), \\\n",
    "    df.ISOTHERTYPE.unique()"
   ]
  },
  {
   "cell_type": "markdown",
   "metadata": {},
   "source": [
    "For the first 8 variables, we see that the missing values correspond to a value of False instead, i.e., when the security is not the relevant type. We can fix this by filling in False."
   ]
  },
  {
   "cell_type": "code",
   "execution_count": 25,
   "metadata": {},
   "outputs": [],
   "source": [
    "df.ISEQUITYTYPE = df.ISEQUITYTYPE.fillna(False)\n",
    "df.ISDEBTTYPE = df.ISDEBTTYPE.fillna(False)\n",
    "df.ISOPTIONTOACQUIRETYPE = df.ISOPTIONTOACQUIRETYPE.fillna(False)\n",
    "df.ISSECURITYTOBEACQUIREDTYPE = df.ISSECURITYTOBEACQUIREDTYPE.fillna(False)\n",
    "df.ISPOOLEDINVESTMENTFUNDTYPE = df.ISPOOLEDINVESTMENTFUNDTYPE.fillna(False)\n",
    "df.ISTENANTINCOMMONTYPE = df.ISTENANTINCOMMONTYPE.fillna(False)\n",
    "df.ISMINERALPROPERTYTYPE = df.ISMINERALPROPERTYTYPE.fillna(False)\n",
    "df.ISOTHERTYPE = df.ISOTHERTYPE.fillna(False)"
   ]
  },
  {
   "cell_type": "code",
   "execution_count": 26,
   "metadata": {},
   "outputs": [
    {
     "data": {
      "text/plain": [
       "0"
      ]
     },
     "execution_count": 26,
     "metadata": {},
     "output_type": "execute_result"
    }
   ],
   "source": [
    "((df.ISOTHERTYPE == False) == (~df.DESCRIPTIONOFOTHERTYPE.isna())).sum()"
   ]
  },
  {
   "cell_type": "markdown",
   "metadata": {},
   "source": [
    "We also see that the description for \"other\" type is only NaN when the security is not of \"other\" type. So, we can fill in \"Not Applicable\" for the missing values."
   ]
  },
  {
   "cell_type": "code",
   "execution_count": 27,
   "metadata": {},
   "outputs": [],
   "source": [
    "df.DESCRIPTIONOFOTHERTYPE = df.DESCRIPTIONOFOTHERTYPE.\\\n",
    "    fillna('Not Applicable')"
   ]
  },
  {
   "cell_type": "markdown",
   "metadata": {},
   "source": [
    "17 to 20. BUSCOMBCLARIFICATIONOFRESP, SALESAMTCLARIFICATIONOFRESP, FINDERFEECLARIFICATIONOFRESP, and GROSSPROCEEDSUSED_CLAROFRESP\n",
    "\n",
    "All of these variables are NaN when there is no provided clarification response. As the clarification is optional, we can set the NaN values to \"Not Applicable\"."
   ]
  },
  {
   "cell_type": "code",
   "execution_count": 28,
   "metadata": {},
   "outputs": [],
   "source": [
    "df.BUSCOMBCLARIFICATIONOFRESP = df.BUSCOMBCLARIFICATIONOFRESP.\\\n",
    "    fillna(\"Not Applicable\")\n",
    "df.SALESAMTCLARIFICATIONOFRESP = df.SALESAMTCLARIFICATIONOFRESP.\\\n",
    "    fillna(\"Not Applicable\")\n",
    "df.FINDERFEECLARIFICATIONOFRESP = df.FINDERFEECLARIFICATIONOFRESP.\\\n",
    "    fillna(\"Not Applicable\")\n",
    "df.GROSSPROCEEDSUSED_CLAROFRESP = df.GROSSPROCEEDSUSED_CLAROFRESP.\\\n",
    "    fillna(\"Not Applicable\")"
   ]
  },
  {
   "cell_type": "markdown",
   "metadata": {},
   "source": [
    "21\\. OVER100RECIPIENTFLAG"
   ]
  },
  {
   "cell_type": "code",
   "execution_count": 29,
   "metadata": {},
   "outputs": [
    {
     "data": {
      "text/plain": [
       "14187"
      ]
     },
     "execution_count": 29,
     "metadata": {},
     "output_type": "execute_result"
    }
   ],
   "source": [
    "df.OVER100RECIPIENTFLAG.isna().sum()"
   ]
  },
  {
   "cell_type": "markdown",
   "metadata": {},
   "source": [
    "We see that all the rows have missing values for this variable. The cause here is ambigious: one possibility is that the variable is False for all the rows. Another possibility that the data from the form were not compiled – on the form, there is an option to identify additional recipients by attaching more pages, and it is possible that these pages were not counted while making the dataset.\n",
    "\n",
    "As having all rows as \"False\" doesn't add any value to any analysis, to be conservative, we drop this column to avoid falsely labelling rows that are potentially \"True\" as \"False\"."
   ]
  },
  {
   "cell_type": "code",
   "execution_count": 30,
   "metadata": {},
   "outputs": [],
   "source": [
    "df = df.drop(columns=['OVER100RECIPIENTFLAG'])"
   ]
  },
  {
   "cell_type": "markdown",
   "metadata": {},
   "source": [
    "22\\. NUMBERNONACCREDITEDINVESTORS\n",
    "\n",
    "As discussed earlier in the consistency check, we see that the NaN values remaining refer to values that are not known, as the number of investors could be either 0 or more. So, the NaNs represent \"missingness\" and should be left as such."
   ]
  },
  {
   "cell_type": "markdown",
   "metadata": {},
   "source": [
    "23 to 25. SALESCOMM_ISESTIMATE, FINDERSFEE_ISESTIMATE, and GROSSPROCEEDSUSED_ISESTIMATE"
   ]
  },
  {
   "cell_type": "code",
   "execution_count": 31,
   "metadata": {},
   "outputs": [
    {
     "data": {
      "text/plain": [
       "(array([nan, True], dtype=object),\n",
       " array([nan, True], dtype=object),\n",
       " array([nan, True], dtype=object))"
      ]
     },
     "execution_count": 31,
     "metadata": {},
     "output_type": "execute_result"
    }
   ],
   "source": [
    "df.SALESCOMM_ISESTIMATE.unique(), df.FINDERSFEE_ISESTIMATE.unique(), \\\n",
    "    df.GROSSPROCEEDSUSED_ISESTIMATE.unique()"
   ]
  },
  {
   "cell_type": "markdown",
   "metadata": {},
   "source": [
    "Here, the missing values refer to cases where the value is False, meaning that the respective dollar values are exact and not an estimate. From the actual form, we observe that these variables are represented by checkboxes that are optional to fill, i.e., they are marked when True but left empty when False. We fix them by filling in False instead."
   ]
  },
  {
   "cell_type": "code",
   "execution_count": 32,
   "metadata": {},
   "outputs": [],
   "source": [
    "df.SALESCOMM_ISESTIMATE = df.SALESCOMM_ISESTIMATE.fillna(False)\n",
    "df.FINDERSFEE_ISESTIMATE = df.FINDERSFEE_ISESTIMATE.fillna(False)\n",
    "df.GROSSPROCEEDSUSED_ISESTIMATE = df.GROSSPROCEEDSUSED_ISESTIMATE.\\\n",
    "    fillna(False)"
   ]
  },
  {
   "cell_type": "markdown",
   "metadata": {},
   "source": [
    "26\\. AUTHORIZEDREPRESENTATIVE"
   ]
  },
  {
   "cell_type": "code",
   "execution_count": 33,
   "metadata": {},
   "outputs": [
    {
     "data": {
      "text/plain": [
       "array([False, nan, True], dtype=object)"
      ]
     },
     "execution_count": 33,
     "metadata": {},
     "output_type": "execute_result"
    }
   ],
   "source": [
    "df.AUTHORIZEDREPRESENTATIVE.unique()"
   ]
  },
  {
   "cell_type": "markdown",
   "metadata": {},
   "source": [
    "We note that there are missing values in addition to True and False. However, SEC guidelines (found [here](https://www.sec.gov/corpfin/form-d-filing)) say that all Forms D must be signed by an authorized representative. This makes the meaning of False and NaN values ambiguous, as the signature of an authorized representative is mandatory in the first place. However, we try to look for any systematic similarities for cases where the value is missing by looking for columns that have the same values for all rows."
   ]
  },
  {
   "cell_type": "code",
   "execution_count": 34,
   "metadata": {},
   "outputs": [
    {
     "data": {
      "text/html": [
       "<div>\n",
       "<style scoped>\n",
       "    .dataframe tbody tr th:only-of-type {\n",
       "        vertical-align: middle;\n",
       "    }\n",
       "\n",
       "    .dataframe tbody tr th {\n",
       "        vertical-align: top;\n",
       "    }\n",
       "\n",
       "    .dataframe thead th {\n",
       "        text-align: right;\n",
       "    }\n",
       "</style>\n",
       "<table border=\"1\" class=\"dataframe\">\n",
       "  <thead>\n",
       "    <tr style=\"text-align: right;\">\n",
       "      <th></th>\n",
       "      <th>ISSECURITYTOBEACQUIREDTYPE</th>\n",
       "      <th>ISTENANTINCOMMONTYPE</th>\n",
       "      <th>HASNONACCREDITEDINVESTORS</th>\n",
       "      <th>NUMBERNONACCREDITEDINVESTORS</th>\n",
       "      <th>FINDERSFEE_DOLLARAMOUNT</th>\n",
       "      <th>FINDERSFEE_ISESTIMATE</th>\n",
       "    </tr>\n",
       "  </thead>\n",
       "  <tbody>\n",
       "    <tr>\n",
       "      <th>29</th>\n",
       "      <td>False</td>\n",
       "      <td>False</td>\n",
       "      <td>False</td>\n",
       "      <td>0.0</td>\n",
       "      <td>0</td>\n",
       "      <td>False</td>\n",
       "    </tr>\n",
       "    <tr>\n",
       "      <th>32</th>\n",
       "      <td>False</td>\n",
       "      <td>False</td>\n",
       "      <td>False</td>\n",
       "      <td>0.0</td>\n",
       "      <td>0</td>\n",
       "      <td>False</td>\n",
       "    </tr>\n",
       "    <tr>\n",
       "      <th>34</th>\n",
       "      <td>False</td>\n",
       "      <td>False</td>\n",
       "      <td>False</td>\n",
       "      <td>0.0</td>\n",
       "      <td>0</td>\n",
       "      <td>False</td>\n",
       "    </tr>\n",
       "    <tr>\n",
       "      <th>329</th>\n",
       "      <td>False</td>\n",
       "      <td>False</td>\n",
       "      <td>False</td>\n",
       "      <td>0.0</td>\n",
       "      <td>0</td>\n",
       "      <td>False</td>\n",
       "    </tr>\n",
       "    <tr>\n",
       "      <th>331</th>\n",
       "      <td>False</td>\n",
       "      <td>False</td>\n",
       "      <td>False</td>\n",
       "      <td>0.0</td>\n",
       "      <td>0</td>\n",
       "      <td>False</td>\n",
       "    </tr>\n",
       "    <tr>\n",
       "      <th>...</th>\n",
       "      <td>...</td>\n",
       "      <td>...</td>\n",
       "      <td>...</td>\n",
       "      <td>...</td>\n",
       "      <td>...</td>\n",
       "      <td>...</td>\n",
       "    </tr>\n",
       "    <tr>\n",
       "      <th>14061</th>\n",
       "      <td>False</td>\n",
       "      <td>False</td>\n",
       "      <td>False</td>\n",
       "      <td>0.0</td>\n",
       "      <td>0</td>\n",
       "      <td>False</td>\n",
       "    </tr>\n",
       "    <tr>\n",
       "      <th>14063</th>\n",
       "      <td>False</td>\n",
       "      <td>False</td>\n",
       "      <td>False</td>\n",
       "      <td>0.0</td>\n",
       "      <td>0</td>\n",
       "      <td>False</td>\n",
       "    </tr>\n",
       "    <tr>\n",
       "      <th>14078</th>\n",
       "      <td>False</td>\n",
       "      <td>False</td>\n",
       "      <td>False</td>\n",
       "      <td>0.0</td>\n",
       "      <td>0</td>\n",
       "      <td>False</td>\n",
       "    </tr>\n",
       "    <tr>\n",
       "      <th>14088</th>\n",
       "      <td>False</td>\n",
       "      <td>False</td>\n",
       "      <td>False</td>\n",
       "      <td>0.0</td>\n",
       "      <td>0</td>\n",
       "      <td>False</td>\n",
       "    </tr>\n",
       "    <tr>\n",
       "      <th>14101</th>\n",
       "      <td>False</td>\n",
       "      <td>False</td>\n",
       "      <td>False</td>\n",
       "      <td>0.0</td>\n",
       "      <td>0</td>\n",
       "      <td>False</td>\n",
       "    </tr>\n",
       "  </tbody>\n",
       "</table>\n",
       "<p>445 rows × 6 columns</p>\n",
       "</div>"
      ],
      "text/plain": [
       "       ISSECURITYTOBEACQUIREDTYPE  ISTENANTINCOMMONTYPE  \\\n",
       "29                          False                 False   \n",
       "32                          False                 False   \n",
       "34                          False                 False   \n",
       "329                         False                 False   \n",
       "331                         False                 False   \n",
       "...                           ...                   ...   \n",
       "14061                       False                 False   \n",
       "14063                       False                 False   \n",
       "14078                       False                 False   \n",
       "14088                       False                 False   \n",
       "14101                       False                 False   \n",
       "\n",
       "       HASNONACCREDITEDINVESTORS  NUMBERNONACCREDITEDINVESTORS  \\\n",
       "29                         False                           0.0   \n",
       "32                         False                           0.0   \n",
       "34                         False                           0.0   \n",
       "329                        False                           0.0   \n",
       "331                        False                           0.0   \n",
       "...                          ...                           ...   \n",
       "14061                      False                           0.0   \n",
       "14063                      False                           0.0   \n",
       "14078                      False                           0.0   \n",
       "14088                      False                           0.0   \n",
       "14101                      False                           0.0   \n",
       "\n",
       "       FINDERSFEE_DOLLARAMOUNT  FINDERSFEE_ISESTIMATE  \n",
       "29                           0                  False  \n",
       "32                           0                  False  \n",
       "34                           0                  False  \n",
       "329                          0                  False  \n",
       "331                          0                  False  \n",
       "...                        ...                    ...  \n",
       "14061                        0                  False  \n",
       "14063                        0                  False  \n",
       "14078                        0                  False  \n",
       "14088                        0                  False  \n",
       "14101                        0                  False  \n",
       "\n",
       "[445 rows x 6 columns]"
      ]
     },
     "execution_count": 34,
     "metadata": {},
     "output_type": "execute_result"
    }
   ],
   "source": [
    "same_cols = []\n",
    "for column in df.columns:\n",
    "    if df[df.AUTHORIZEDREPRESENTATIVE.isna()]\\\n",
    "        [column].unique().shape[0] == 1:\n",
    "        if df[df.AUTHORIZEDREPRESENTATIVE.isna()][column]\\\n",
    "            .isna().sum() == 0:\n",
    "            same_cols.append(column)\n",
    "df[df.AUTHORIZEDREPRESENTATIVE.isna()][same_cols]"
   ]
  },
  {
   "cell_type": "markdown",
   "metadata": {},
   "source": [
    "None of these columns seem to indicate why the value for AUTHORIZEDREPRESENTATIVE could be missing. So, we leave the NaN values as-is."
   ]
  },
  {
   "cell_type": "markdown",
   "metadata": {},
   "source": [
    "**Translating the Variables to an Appropriate Format**\n",
    "\n",
    "First, we convert all the numeric values to the appropriate format. The columns *TOTALOFFERINGAMOUNT* and *TOTALREMAINING* contain some values marked 'Indefinite', which we replace with infinity. According to which data type is appropriate, some columns are converted to integers, and others to floats (when decimal points make sense, or if we have missing values)."
   ]
  },
  {
   "cell_type": "code",
   "execution_count": 35,
   "metadata": {},
   "outputs": [],
   "source": [
    "df.MINIMUMINVESTMENTACCEPTED = df.MINIMUMINVESTMENTACCEPTED.\\\n",
    "    astype('float64')\n",
    "df.TOTALOFFERINGAMOUNT = df.TOTALOFFERINGAMOUNT.\\\n",
    "    replace('Indefinite',np.inf).astype('float64')\n",
    "df.TOTALAMOUNTSOLD = df.TOTALAMOUNTSOLD.astype('float64')\n",
    "df.TOTALREMAINING = df.TOTALREMAINING.replace('Indefinite',\\\n",
    "    np.inf).astype('float64')\n",
    "df.NUMBERNONACCREDITEDINVESTORS = \\\n",
    "    df.NUMBERNONACCREDITEDINVESTORS.astype('float64')\n",
    "df.TOTALNUMBERALREADYINVESTED = df.TOTALNUMBERALREADYINVESTED\\\n",
    "    .astype('int64')\n",
    "df.SALESCOMM_DOLLARAMOUNT = df.SALESCOMM_DOLLARAMOUNT\\\n",
    "    .astype('float64')\n",
    "df.FINDERSFEE_DOLLARAMOUNT = df.FINDERSFEE_DOLLARAMOUNT\\\n",
    "    .astype('float64')\n",
    "df.GROSSPROCEEDSUSED_DOLLARAMOUNT = \\\n",
    "    df.GROSSPROCEEDSUSED_DOLLARAMOUNT.astype('float64')"
   ]
  },
  {
   "cell_type": "markdown",
   "metadata": {},
   "source": [
    "Next, we convert the variables that are categorical, and lack a natural ordering. For the special case of categorical variables where we only have True or False values (and no missing values), we can convert them to the type boolean."
   ]
  },
  {
   "cell_type": "code",
   "execution_count": 36,
   "metadata": {},
   "outputs": [],
   "source": [
    "df.ISAMENDMENT = df.ISAMENDMENT.astype(bool)\n",
    "df.YETTOOCCUR = df.YETTOOCCUR.astype(bool)\n",
    "df.MORETHANONEYEAR = df.MORETHANONEYEAR.astype(bool)\n",
    "df.ISEQUITYTYPE = df.ISEQUITYTYPE.astype(bool)\n",
    "df.ISDEBTTYPE = df.ISDEBTTYPE.astype(bool)\n",
    "df.ISOPTIONTOACQUIRETYPE = df.ISOPTIONTOACQUIRETYPE.astype(bool)\n",
    "df.ISSECURITYTOBEACQUIREDTYPE = df.ISSECURITYTOBEACQUIREDTYPE.astype(bool)\n",
    "df.ISPOOLEDINVESTMENTFUNDTYPE = df.ISPOOLEDINVESTMENTFUNDTYPE.astype(bool)\n",
    "df.ISTENANTINCOMMONTYPE = df.ISTENANTINCOMMONTYPE.astype(bool)\n",
    "df.ISMINERALPROPERTYTYPE = df.ISMINERALPROPERTYTYPE.astype(bool)\n",
    "df.ISOTHERTYPE = df.ISOTHERTYPE.astype(bool)\n",
    "df.ISBUSINESSCOMBINATIONTRANS = df.ISBUSINESSCOMBINATIONTRANS.astype(bool)\n",
    "df.HASNONACCREDITEDINVESTORS = df.HASNONACCREDITEDINVESTORS.astype(bool)\n",
    "df.SALESCOMM_ISESTIMATE = df.SALESCOMM_ISESTIMATE.astype(bool)\n",
    "df.FINDERSFEE_ISESTIMATE = df.FINDERSFEE_ISESTIMATE.astype(bool)\n",
    "df.GROSSPROCEEDSUSED_ISESTIMATE = df.GROSSPROCEEDSUSED_ISESTIMATE\\\n",
    "    .astype(bool)\n",
    "\n",
    "df.INDUSTRYGROUPTYPE = df.INDUSTRYGROUPTYPE.astype('category')\n",
    "df.INVESTMENTFUNDTYPE = df.INVESTMENTFUNDTYPE.astype('category')\n",
    "df.IS40ACT = df.IS40ACT.astype('category')\n",
    "df.REVENUERANGE = df.REVENUERANGE.astype('category')\n",
    "df.AGGREGATENETASSETVALUERANGE = df.AGGREGATENETASSETVALUERANGE\\\n",
    "    .astype('category')\n",
    "df.AUTHORIZEDREPRESENTATIVE = df.AUTHORIZEDREPRESENTATIVE.astype('category')"
   ]
  },
  {
   "cell_type": "markdown",
   "metadata": {},
   "source": [
    "For the variable FEDERALEXEMPTIONS_ITEMS_LIST, we see that it is a list of different exemptions. In order to capture the fact that some rows might have exemptions in common but not have an identical list, we split it into different columns for each exemption, where each column is a boolean."
   ]
  },
  {
   "cell_type": "code",
   "execution_count": 37,
   "metadata": {},
   "outputs": [],
   "source": [
    "exemptions = set()\n",
    "for exemp_list in df.FEDERALEXEMPTIONS_ITEMS_LIST.unique():\n",
    "    empts = exemp_list.split(\", \")\n",
    "    exemptions.update(empts)\n",
    "\n",
    "def create_col(exemp_list, col_name):\n",
    "    empts = exemp_list.split(\", \")\n",
    "    if col_name in empts:\n",
    "        return True\n",
    "    else:\n",
    "        return False\n",
    "\n",
    "for col in exemptions:\n",
    "    df.loc[:, col] = df.FEDERALEXEMPTIONS_ITEMS_LIST.apply(lambda x: \\\n",
    "        create_col(x, col))\n",
    "    df.loc[:, col] = df.loc[:, col].astype(bool)"
   ]
  },
  {
   "cell_type": "markdown",
   "metadata": {},
   "source": [
    "Finally, we set SALE_DATE to type datetime."
   ]
  },
  {
   "cell_type": "code",
   "execution_count": 38,
   "metadata": {},
   "outputs": [],
   "source": [
    "df.SALE_DATE = df.SALE_DATE.astype('datetime64')"
   ]
  }
 ],
 "metadata": {
  "kernelspec": {
   "display_name": "Python 3.9.12 ('base')",
   "language": "python",
   "name": "python3"
  },
  "language_info": {
   "codemirror_mode": {
    "name": "ipython",
    "version": 3
   },
   "file_extension": ".py",
   "mimetype": "text/x-python",
   "name": "python",
   "nbconvert_exporter": "python",
   "pygments_lexer": "ipython3",
   "version": "3.9.12"
  },
  "orig_nbformat": 4,
  "vscode": {
   "interpreter": {
    "hash": "417f4c96b8a93166877ea833783777985ebd49905c42bc4a2c46f36438998e4c"
   }
  }
 },
 "nbformat": 4,
 "nbformat_minor": 2
}
